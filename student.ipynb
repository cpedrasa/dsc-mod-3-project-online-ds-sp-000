{
 "cells": [
  {
   "cell_type": "markdown",
   "metadata": {},
   "source": [
    "# Module 3 Final Project\n",
    "\n",
    "Student name: **Cynthia Pedrasa**  \n",
    "Student pace: **self paced**  \n",
    "Scheduled project review date/time:  **November 27, 2019**  \n",
    "Instructor name: **Eli Thomas**  \n",
    "Blog post URL:  https://cpedrasa.github.io/racial_bias_in_machine_learning_algorithm  \n",
    "\n",
    "## Table of contents\n",
    "\n",
    " \n",
    "Background:  \n",
    "  \n",
    "Experimental Design:  \n",
    "\n",
    "I. <a href=\"#1.-Obtaining-the-Data\">Obtaining the Data</a>  \n",
    "  + A. <a href=\"#1a.-Import-the-Libraries\">Import the Libraries</a>  \n",
    "  + B. <a href=\"#1b.-Connect-to-the-Northwind-database\">Connect to the Northwind database</a>  \n",
    "  + C. <a href=\"#1c.-Inspect-the-Data\">Inspect the Data</a>  \n",
    "  \n",
    "II. <a href=\"#2.-Scrubbing-the-Data\">Scrubbing the Data</a>  \n",
    "  + A. <a href=\"#2a.-Missing-Values-and-Distinct-Values\">Missing Values and Distinct Values</a>  \n",
    "\n",
    "\n",
    "\n",
    "III. <a href=\"#3.-Exploring-the-Data\">Exploring the Data</a>  \n",
    "  + A. <a href=\"#3a.-Descriptive-Statistics\">Descriptive Statistics</a>  \n",
    "  + B. <a href=\"#3b.-Outliers-Check\">Outliers Check</a> \n",
    "  + C. <a href=\"#3c.-Normality-check\">Normality check</a>  \n",
    "  + D. <a href=\"#3d.-Sample-Size-and-Data-type-check\">Sample Size and Data type check</a>  \n",
    "  + E. <a href=\"#3e.-Equal-Variance-check-(Homoscedasticity)\">Equal Variance check (Homoscedasticity)</a>  \n",
    "  + F. <a href=\"#3f.-Independent-sample-check-(Multicollinearity)\">Independent sample check (Multicollinearity)</a>  \n",
    "  \n",
    "IV. <a href=\"#4.-Run-the-Statistical-Test\">Run the Statistical Test</a>  \n",
    "  + A. <a href=\"#4a.-Statistical-Hypothesis-Process\">Statistical Hypothesis Process</a> \n",
    "  + B. <a href=\"#4b.-Create-a-Sample-Distribution-of-Sample-Means-(with-replacement)\">Create a Sample Distribution of Sample Means (with replacement)</a> \n",
    "  + C. <a href=\"#4c.-Run-the-hypothesis-test\">Run the hypothesis test</a>  \n",
    "  + D. <a href=\"#4d.-Effect-Size\">Effect Size</a>  \n",
    "  + E. <a href=\"#4e.-Is-there-a-difference-in-the-mean-quantity-between-discount-levels?\">Is there a difference in the mean quantity between discount levels?</a>\n",
    "  + F. <a href=\"#4f.-Is-there-a-difference-in-the-mean-quantity-of-order-between-product-categories?\">Is there a difference in the mean quantity of order between product categories?</a>  \n",
    "  + G. <a href=\"#4g.-Is-there-a-statistically-significant-difference-in-discount-between-product-categories?\">Is there a statistically significant difference in discount between product categories?</a>   \n",
    "  + H. <a href=\"#4h.-Is-there-a-difference-in-the-mean-quantity-of-order-between-salesperson?\">Is there a difference in the mean quantity of order between salesperson?</a>\n",
    "  + I. <a href=\"#4i.-Is-there-a-difference-in-the-mean-Total-Sales-between-Customer-Country?\">Is there a difference in the mean Total Sales between Customer Country?</a>  \n",
    "  \n",
    "V. <a href=\"#5.-Interpret-Findings\">Interpret Findings</a>  "
   ]
  },
  {
   "cell_type": "markdown",
   "metadata": {},
   "source": [
    "## Project Background\n",
    "For this project, I will be working with the Northwind database--a free, open-source dataset created by Microsoft containing data from a fictional company.  The goal of this project is to test the student's ability to gather information from a real-world database and use the knowledge of statistical analysis and hypothesis testing to generate analytical insights to answer the following question:\n",
    "\n",
    "**_Does discount amount have a statistically significant effect on the quantity of a product in an order? If so, at what level(s) of discount?_**\n",
    "\n",
    "In addition to answering this question with a hypothesis test, the student will also need to come up with **_at least 3 other hypotheses to test on your own_**.  These can by anything that you think could be important information for the company. \n",
    "\n",
    "### Experimental Method: The Data Scientist would go to the following steps to conduct the experimental design to answer the business questions.\n",
    "\n",
    "1. **Making Observations:** Northwind would like to administer pricing policies involving quantity discounts but the company's knowledge of these discounts is quite limited. Northwind recognizes that to be competitive, they need to meet customer expectations on quantity discounts and need data-driven decision-making in the development, implementation of a profitable discount schedule.\n",
    "\n",
    "2. **Examine the Research:** The Data scientist will work with the Marketing Manager and other Business stakeholders to review the current best practice guidelines from the economics and marketing literature in the quantity discounts to understand the metrics for optimization. This step include the Data Science Framework iterative processes of obtaining the data, cleansing the data, exploring the data to understand the business problem/question and help finding the appropriate hypothesis test (test statistic) to use.\n",
    "\n",
    "3. **Form a Hypothesis:**  Before we run any hypothesis test, we need to specify the two hypotheses: the null hypothesis (H0) and the Alternate Hypothesis (Ha). we start by assuming the null hypothesis which is \"there is no difference between the quantity of product ordered with discounts or without discounts and that what we're seeing is just random probability that the difference is due to chance versus not. We are interested in disproving the null hypothesis.\n",
    "\n",
    "4. **Conduct the Experiment.**  After we explored the data, formulated the hypothesis, and decided on the correct hypothesis test to use, we will execute the statistical test.\n",
    "\n",
    "5. **Analyze experimental results:** looking at the data and understanding what happened after running the test statistic to determine if the test is statistically significant or not.\n",
    "\n",
    "6. **Draw conclusions:** When we find strong enough evidence against the null hypothesis,(p value <= significace level) we reject the null hypothesis/the result is statistically significant. When we do not find evidence against the null hypothesis,(p value >= significace level)  we fail to reject the null hypothesis/the result is not statistically significant.\n"
   ]
  },
  {
   "cell_type": "markdown",
   "metadata": {},
   "source": [
    "## 1. Obtaining the Data"
   ]
  },
  {
   "cell_type": "markdown",
   "metadata": {},
   "source": [
    "### 1a. Import the Libraries"
   ]
  },
  {
   "cell_type": "code",
   "execution_count": 1,
   "metadata": {},
   "outputs": [],
   "source": [
    "\n",
    "#Import the libraries \n",
    "import warnings # way to warn programmers about changes in language or library features\n",
    "warnings.filterwarnings('ignore') # hide matplotlib warnings\n",
    "import sqlite3 # working with sqlite database engine\n",
    "from pandas import read_sql_query\n",
    "\n",
    "import pandas as pd # data structures and data analysis tools for python\n",
    "import json # work with json file\n",
    "from pandasql import sqldf\n",
    "pysqldf = lambda q: sqldf(q, globals()) #write a lambda function that will make it quicker and easier to write queries\n",
    "\n",
    "import matplotlib.pyplot as plt # plotting library for Python\n",
    "#%matplotlib inline # magic function renders the plot out cell even if plt.show function is not called\n",
    "\n",
    "import seaborn as sns #  a graphic library built on top of Matplotlib\n",
    "\n",
    "import numpy as np # support for multi-dimensional arrays and matrices\n",
    "from numpy import array\n",
    "\n",
    "#import itertools # for combinations\n",
    "import scipy\n",
    "from scipy import stats # scientific computing and technical computing.\n",
    "from scipy.stats import kurtosis, skew\n",
    "from scipy.stats import shapiro # normality test \n",
    "\n",
    "import statsmodels.api as sm # estimate statistical models, and perform statistical tests\n",
    "from statsmodels.formula.api import ols # ordinary least squares - for multi-variate regression model \n",
    "from statsmodels.stats.multicomp import (pairwise_tukeyhsd, MultiComparison) #calculate pairwise comparisons\n",
    "from statsmodels.stats.multicomp import MultiComparison #post hoc test to find where the differences occurred\n",
    "from statsmodels.stats.power import TTestIndPower, TTestPower # power of the statistical test\n",
    "from statsmodels.graphics.gofplots import qqplot #visualizing normality of distribution\n",
    "\n",
    "from statsmodels.stats.multicomp import (pairwise_tukeyhsd, MultiComparison)"
   ]
  },
  {
   "cell_type": "markdown",
   "metadata": {},
   "source": [
    "[<a href=\"#Module-3-Final-Project\">Jump back to Table of Contents</a>]  \n",
    " "
   ]
  },
  {
   "cell_type": "markdown",
   "metadata": {},
   "source": [
    "### 1b. Connect to the Northwind database"
   ]
  },
  {
   "cell_type": "code",
   "execution_count": 2,
   "metadata": {},
   "outputs": [
    {
     "name": "stdout",
     "output_type": "stream",
     "text": [
      "['Employee', 'Category', 'Customer', 'Shipper', 'Supplier', 'Order', 'Product', 'OrderDetail', 'CustomerCustomerDemo', 'CustomerDemographic', 'Region', 'Territory', 'EmployeeTerritory']\n"
     ]
    }
   ],
   "source": [
    "# Create the sqlite3 connection.\n",
    "conn = sqlite3.connect('Northwind_small.sqlite')\n",
    "\n",
    "#Create the cursor to fetch data from the database\n",
    "cur = conn.cursor()\n",
    "\n",
    "#Query all table objects in the database and return a DataFrame on the result set of the query \n",
    "NW_table = pd.read_sql_query(\"\"\"SELECT name \n",
    "                                FROM sqlite_master \n",
    "                                WHERE type='table'\"\"\", conn)\n",
    "NW_table = NW_table['name'].tolist()\n",
    "print(NW_table)\n"
   ]
  },
  {
   "cell_type": "code",
   "execution_count": 3,
   "metadata": {},
   "outputs": [],
   "source": [
    "#Read all the NW Tables and save in dataframes\n",
    "NW_table = ['Employee','Category','Customer','Shipper', 'Supplier', 'Product', 'OrderDetail', \n",
    "            'CustomerCustomerDemo', 'CustomerDemographic', 'Region', 'Territory', 'EmployeeTerritory']\n",
    "\n",
    "for t in NW_table:\n",
    "     exec('{t} = pd.read_sql_query(\"SELECT * FROM {t}\", conn)'.format(t=t))\n"
   ]
  },
  {
   "cell_type": "markdown",
   "metadata": {},
   "source": [
    "Let's remove the Order table from the NW_table list as it is returning an error when the query is ran.  \n",
    "\"Uncaught Error: near \"Order\": syntax error is received when the [Order] is queried from https://sqliteonline.com/\"  "
   ]
  },
  {
   "cell_type": "markdown",
   "metadata": {},
   "source": [
    "\n",
    "As a workaround, I exported the [Order] table as json from sqliteonline by right clicking on the table name.  \n",
    "The Order table has the associated cutomer who placed the order as well as the sales person, freight, order date and shipping information.\n"
   ]
  },
  {
   "cell_type": "code",
   "execution_count": 4,
   "metadata": {},
   "outputs": [
    {
     "data": {
      "text/html": [
       "<div>\n",
       "<style scoped>\n",
       "    .dataframe tbody tr th:only-of-type {\n",
       "        vertical-align: middle;\n",
       "    }\n",
       "\n",
       "    .dataframe tbody tr th {\n",
       "        vertical-align: top;\n",
       "    }\n",
       "\n",
       "    .dataframe thead th {\n",
       "        text-align: right;\n",
       "    }\n",
       "</style>\n",
       "<table border=\"1\" class=\"dataframe\">\n",
       "  <thead>\n",
       "    <tr style=\"text-align: right;\">\n",
       "      <th></th>\n",
       "      <th>CustomerId</th>\n",
       "      <th>EmployeeId</th>\n",
       "      <th>Freight</th>\n",
       "      <th>Id</th>\n",
       "      <th>OrderDate</th>\n",
       "      <th>RequiredDate</th>\n",
       "      <th>ShipAddress</th>\n",
       "      <th>ShipCity</th>\n",
       "      <th>ShipCountry</th>\n",
       "      <th>ShipName</th>\n",
       "      <th>ShipPostalCode</th>\n",
       "      <th>ShipRegion</th>\n",
       "      <th>ShipVia</th>\n",
       "      <th>ShippedDate</th>\n",
       "    </tr>\n",
       "  </thead>\n",
       "  <tbody>\n",
       "    <tr>\n",
       "      <th>0</th>\n",
       "      <td>VINET</td>\n",
       "      <td>5</td>\n",
       "      <td>32.38</td>\n",
       "      <td>10248</td>\n",
       "      <td>2012-07-04</td>\n",
       "      <td>2012-08-01</td>\n",
       "      <td>59 rue de l'Abbaye</td>\n",
       "      <td>Reims</td>\n",
       "      <td>France</td>\n",
       "      <td>Vins et alcools Chevalier</td>\n",
       "      <td>51100</td>\n",
       "      <td>Western Europe</td>\n",
       "      <td>3</td>\n",
       "      <td>2012-07-16</td>\n",
       "    </tr>\n",
       "  </tbody>\n",
       "</table>\n",
       "</div>"
      ],
      "text/plain": [
       "  CustomerId  EmployeeId  Freight     Id   OrderDate RequiredDate  \\\n",
       "0      VINET           5    32.38  10248  2012-07-04   2012-08-01   \n",
       "\n",
       "          ShipAddress ShipCity ShipCountry                   ShipName  \\\n",
       "0  59 rue de l'Abbaye    Reims      France  Vins et alcools Chevalier   \n",
       "\n",
       "  ShipPostalCode      ShipRegion  ShipVia ShippedDate  \n",
       "0          51100  Western Europe        3  2012-07-16  "
      ]
     },
     "execution_count": 4,
     "metadata": {},
     "output_type": "execute_result"
    }
   ],
   "source": [
    "#Read the Orders table from the exported JSON file\n",
    "\n",
    "with open('Order.json') as data_file:    \n",
    "    Orders = json.load(data_file)\n",
    "Orders = pd.DataFrame(Orders)\n",
    "Orders.head(1)\n"
   ]
  },
  {
   "cell_type": "markdown",
   "metadata": {},
   "source": [
    "[<a href=\"#Module-3-Final-Project\">Jump back to Table of Contents</a>]  \n",
    " "
   ]
  },
  {
   "cell_type": "markdown",
   "metadata": {},
   "source": [
    "### 1c. Inspect the Data  "
   ]
  },
  {
   "cell_type": "code",
   "execution_count": 5,
   "metadata": {
    "scrolled": true
   },
   "outputs": [
    {
     "name": "stdout",
     "output_type": "stream",
     "text": [
      "\n",
      "\n",
      "Employee\n",
      "<class 'pandas.core.frame.DataFrame'>\n",
      "RangeIndex: 9 entries, 0 to 8\n",
      "Data columns (total 18 columns):\n",
      "Id                 9 non-null int64\n",
      "LastName           9 non-null object\n",
      "FirstName          9 non-null object\n",
      "Title              9 non-null object\n",
      "TitleOfCourtesy    9 non-null object\n",
      "BirthDate          9 non-null object\n",
      "HireDate           9 non-null object\n",
      "Address            9 non-null object\n",
      "City               9 non-null object\n",
      "Region             9 non-null object\n",
      "PostalCode         9 non-null object\n",
      "Country            9 non-null object\n",
      "HomePhone          9 non-null object\n",
      "Extension          9 non-null object\n",
      "Photo              0 non-null object\n",
      "Notes              9 non-null object\n",
      "ReportsTo          8 non-null float64\n",
      "PhotoPath          9 non-null object\n",
      "dtypes: float64(1), int64(1), object(16)\n",
      "memory usage: 1.3+ KB\n",
      "None <sqlite3.Connection object at 0x7fad691da2d0>\n",
      "\n",
      "\n",
      "Category\n",
      "<class 'pandas.core.frame.DataFrame'>\n",
      "RangeIndex: 8 entries, 0 to 7\n",
      "Data columns (total 3 columns):\n",
      "Id              8 non-null int64\n",
      "CategoryName    8 non-null object\n",
      "Description     8 non-null object\n",
      "dtypes: int64(1), object(2)\n",
      "memory usage: 272.0+ bytes\n",
      "None <sqlite3.Connection object at 0x7fad691da2d0>\n",
      "\n",
      "\n",
      "Customer\n",
      "<class 'pandas.core.frame.DataFrame'>\n",
      "RangeIndex: 91 entries, 0 to 90\n",
      "Data columns (total 11 columns):\n",
      "Id              91 non-null object\n",
      "CompanyName     91 non-null object\n",
      "ContactName     91 non-null object\n",
      "ContactTitle    91 non-null object\n",
      "Address         91 non-null object\n",
      "City            91 non-null object\n",
      "Region          91 non-null object\n",
      "PostalCode      90 non-null object\n",
      "Country         91 non-null object\n",
      "Phone           91 non-null object\n",
      "Fax             69 non-null object\n",
      "dtypes: object(11)\n",
      "memory usage: 7.9+ KB\n",
      "None <sqlite3.Connection object at 0x7fad691da2d0>\n",
      "\n",
      "\n",
      "Shipper\n",
      "<class 'pandas.core.frame.DataFrame'>\n",
      "RangeIndex: 3 entries, 0 to 2\n",
      "Data columns (total 3 columns):\n",
      "Id             3 non-null int64\n",
      "CompanyName    3 non-null object\n",
      "Phone          3 non-null object\n",
      "dtypes: int64(1), object(2)\n",
      "memory usage: 152.0+ bytes\n",
      "None <sqlite3.Connection object at 0x7fad691da2d0>\n",
      "\n",
      "\n",
      "Supplier\n",
      "<class 'pandas.core.frame.DataFrame'>\n",
      "RangeIndex: 29 entries, 0 to 28\n",
      "Data columns (total 12 columns):\n",
      "Id              29 non-null int64\n",
      "CompanyName     29 non-null object\n",
      "ContactName     29 non-null object\n",
      "ContactTitle    29 non-null object\n",
      "Address         29 non-null object\n",
      "City            29 non-null object\n",
      "Region          29 non-null object\n",
      "PostalCode      29 non-null object\n",
      "Country         29 non-null object\n",
      "Phone           29 non-null object\n",
      "Fax             13 non-null object\n",
      "HomePage        5 non-null object\n",
      "dtypes: int64(1), object(11)\n",
      "memory usage: 2.8+ KB\n",
      "None <sqlite3.Connection object at 0x7fad691da2d0>\n",
      "\n",
      "\n",
      "Product\n",
      "<class 'pandas.core.frame.DataFrame'>\n",
      "RangeIndex: 77 entries, 0 to 76\n",
      "Data columns (total 10 columns):\n",
      "Id                 77 non-null int64\n",
      "ProductName        77 non-null object\n",
      "SupplierId         77 non-null int64\n",
      "CategoryId         77 non-null int64\n",
      "QuantityPerUnit    77 non-null object\n",
      "UnitPrice          77 non-null float64\n",
      "UnitsInStock       77 non-null int64\n",
      "UnitsOnOrder       77 non-null int64\n",
      "ReorderLevel       77 non-null int64\n",
      "Discontinued       77 non-null int64\n",
      "dtypes: float64(1), int64(7), object(2)\n",
      "memory usage: 6.1+ KB\n",
      "None <sqlite3.Connection object at 0x7fad691da2d0>\n",
      "\n",
      "\n",
      "OrderDetail\n",
      "<class 'pandas.core.frame.DataFrame'>\n",
      "RangeIndex: 2155 entries, 0 to 2154\n",
      "Data columns (total 6 columns):\n",
      "Id           2155 non-null object\n",
      "OrderId      2155 non-null int64\n",
      "ProductId    2155 non-null int64\n",
      "UnitPrice    2155 non-null float64\n",
      "Quantity     2155 non-null int64\n",
      "Discount     2155 non-null float64\n",
      "dtypes: float64(2), int64(3), object(1)\n",
      "memory usage: 101.1+ KB\n",
      "None <sqlite3.Connection object at 0x7fad691da2d0>\n",
      "\n",
      "\n",
      "CustomerCustomerDemo\n",
      "<class 'pandas.core.frame.DataFrame'>\n",
      "Index: 0 entries\n",
      "Data columns (total 2 columns):\n",
      "Id                0 non-null object\n",
      "CustomerTypeId    0 non-null object\n",
      "dtypes: object(2)\n",
      "memory usage: 0.0+ bytes\n",
      "None <sqlite3.Connection object at 0x7fad691da2d0>\n",
      "\n",
      "\n",
      "CustomerDemographic\n",
      "<class 'pandas.core.frame.DataFrame'>\n",
      "Index: 0 entries\n",
      "Data columns (total 2 columns):\n",
      "Id              0 non-null object\n",
      "CustomerDesc    0 non-null object\n",
      "dtypes: object(2)\n",
      "memory usage: 0.0+ bytes\n",
      "None <sqlite3.Connection object at 0x7fad691da2d0>\n",
      "\n",
      "\n",
      "Region\n",
      "<class 'pandas.core.frame.DataFrame'>\n",
      "RangeIndex: 4 entries, 0 to 3\n",
      "Data columns (total 2 columns):\n",
      "Id                   4 non-null int64\n",
      "RegionDescription    4 non-null object\n",
      "dtypes: int64(1), object(1)\n",
      "memory usage: 144.0+ bytes\n",
      "None <sqlite3.Connection object at 0x7fad691da2d0>\n",
      "\n",
      "\n",
      "Territory\n",
      "<class 'pandas.core.frame.DataFrame'>\n",
      "RangeIndex: 53 entries, 0 to 52\n",
      "Data columns (total 3 columns):\n",
      "Id                      53 non-null object\n",
      "TerritoryDescription    53 non-null object\n",
      "RegionId                53 non-null int64\n",
      "dtypes: int64(1), object(2)\n",
      "memory usage: 1.3+ KB\n",
      "None <sqlite3.Connection object at 0x7fad691da2d0>\n",
      "\n",
      "\n",
      "EmployeeTerritory\n",
      "<class 'pandas.core.frame.DataFrame'>\n",
      "RangeIndex: 49 entries, 0 to 48\n",
      "Data columns (total 3 columns):\n",
      "Id             49 non-null object\n",
      "EmployeeId     49 non-null int64\n",
      "TerritoryId    49 non-null object\n",
      "dtypes: int64(1), object(2)\n",
      "memory usage: 1.2+ KB\n",
      "None <sqlite3.Connection object at 0x7fad691da2d0>\n",
      "\n",
      " Orders\n",
      "<class 'pandas.core.frame.DataFrame'>\n",
      "RangeIndex: 830 entries, 0 to 829\n",
      "Data columns (total 14 columns):\n",
      "CustomerId        830 non-null object\n",
      "EmployeeId        830 non-null int64\n",
      "Freight           830 non-null float64\n",
      "Id                830 non-null int64\n",
      "OrderDate         830 non-null object\n",
      "RequiredDate      830 non-null object\n",
      "ShipAddress       830 non-null object\n",
      "ShipCity          830 non-null object\n",
      "ShipCountry       830 non-null object\n",
      "ShipName          830 non-null object\n",
      "ShipPostalCode    811 non-null object\n",
      "ShipRegion        830 non-null object\n",
      "ShipVia           830 non-null int64\n",
      "ShippedDate       809 non-null object\n",
      "dtypes: float64(1), int64(3), object(10)\n",
      "memory usage: 90.9+ KB\n",
      "None\n"
     ]
    }
   ],
   "source": [
    "#Inspect the columns & check the totals and data types in the Northwind tables\n",
    "\n",
    "for t in NW_table:\n",
    "    exec('print(t), print({t}.info(), conn)'.format(t=t), print(\"\\n\")) \n",
    "print(\"\\n\",'Orders')\n",
    "print(Orders.info())\n"
   ]
  },
  {
   "cell_type": "markdown",
   "metadata": {},
   "source": [
    "+ The Order Detail table contains the features we would like to test, namely, Discount and Quantity.  \n",
    "+ There are 2155 records containing the orderid along with the Product, unit price, discounts, and quantity for that order."
   ]
  },
  {
   "cell_type": "markdown",
   "metadata": {},
   "source": [
    "[<a href=\"#Module-3-Final-Project\">Jump back to Table of Contents</a>]  \n",
    " "
   ]
  },
  {
   "cell_type": "markdown",
   "metadata": {},
   "source": [
    "## 2. Scrubbing the Data"
   ]
  },
  {
   "cell_type": "markdown",
   "metadata": {},
   "source": [
    "### 2a. Missing Values and Distinct Values  "
   ]
  },
  {
   "cell_type": "markdown",
   "metadata": {},
   "source": [
    "It seems the two features (Quantity & Discount) that we are interested in are in the OrderDetail table and we will not need the Order table at this time.  \n",
    "+ Let's Inspect the OrderDetail table for any missing null values.\n",
    "+ Let's also inpect the distinct discount values.\n"
   ]
  },
  {
   "cell_type": "code",
   "execution_count": 6,
   "metadata": {},
   "outputs": [
    {
     "data": {
      "text/html": [
       "<div>\n",
       "<style scoped>\n",
       "    .dataframe tbody tr th:only-of-type {\n",
       "        vertical-align: middle;\n",
       "    }\n",
       "\n",
       "    .dataframe tbody tr th {\n",
       "        vertical-align: top;\n",
       "    }\n",
       "\n",
       "    .dataframe thead th {\n",
       "        text-align: right;\n",
       "    }\n",
       "</style>\n",
       "<table border=\"1\" class=\"dataframe\">\n",
       "  <thead>\n",
       "    <tr style=\"text-align: right;\">\n",
       "      <th></th>\n",
       "      <th>Id</th>\n",
       "      <th>OrderId</th>\n",
       "      <th>ProductId</th>\n",
       "      <th>UnitPrice</th>\n",
       "      <th>Quantity</th>\n",
       "      <th>Discount</th>\n",
       "    </tr>\n",
       "  </thead>\n",
       "  <tbody>\n",
       "    <tr>\n",
       "      <th>0</th>\n",
       "      <td>10248/11</td>\n",
       "      <td>10248</td>\n",
       "      <td>11</td>\n",
       "      <td>14.0</td>\n",
       "      <td>12</td>\n",
       "      <td>0.0</td>\n",
       "    </tr>\n",
       "    <tr>\n",
       "      <th>1</th>\n",
       "      <td>10248/42</td>\n",
       "      <td>10248</td>\n",
       "      <td>42</td>\n",
       "      <td>9.8</td>\n",
       "      <td>10</td>\n",
       "      <td>0.0</td>\n",
       "    </tr>\n",
       "    <tr>\n",
       "      <th>2</th>\n",
       "      <td>10248/72</td>\n",
       "      <td>10248</td>\n",
       "      <td>72</td>\n",
       "      <td>34.8</td>\n",
       "      <td>5</td>\n",
       "      <td>0.0</td>\n",
       "    </tr>\n",
       "    <tr>\n",
       "      <th>3</th>\n",
       "      <td>10249/14</td>\n",
       "      <td>10249</td>\n",
       "      <td>14</td>\n",
       "      <td>18.6</td>\n",
       "      <td>9</td>\n",
       "      <td>0.0</td>\n",
       "    </tr>\n",
       "    <tr>\n",
       "      <th>4</th>\n",
       "      <td>10249/51</td>\n",
       "      <td>10249</td>\n",
       "      <td>51</td>\n",
       "      <td>42.4</td>\n",
       "      <td>40</td>\n",
       "      <td>0.0</td>\n",
       "    </tr>\n",
       "  </tbody>\n",
       "</table>\n",
       "</div>"
      ],
      "text/plain": [
       "         Id  OrderId  ProductId  UnitPrice  Quantity  Discount\n",
       "0  10248/11    10248         11       14.0        12       0.0\n",
       "1  10248/42    10248         42        9.8        10       0.0\n",
       "2  10248/72    10248         72       34.8         5       0.0\n",
       "3  10249/14    10249         14       18.6         9       0.0\n",
       "4  10249/51    10249         51       42.4        40       0.0"
      ]
     },
     "execution_count": 6,
     "metadata": {},
     "output_type": "execute_result"
    }
   ],
   "source": [
    "#Let's inspect the OrderDetails Table\n",
    "OrderDetail.head()"
   ]
  },
  {
   "cell_type": "code",
   "execution_count": 7,
   "metadata": {},
   "outputs": [
    {
     "data": {
      "text/plain": [
       "Id           0\n",
       "OrderId      0\n",
       "ProductId    0\n",
       "UnitPrice    0\n",
       "Quantity     0\n",
       "Discount     0\n",
       "dtype: int64"
      ]
     },
     "execution_count": 7,
     "metadata": {},
     "output_type": "execute_result"
    }
   ],
   "source": [
    "#Query the OrderDetail table for nulls and check the distinct discount values\n",
    "OrderDetail.isna().sum()"
   ]
  },
  {
   "cell_type": "code",
   "execution_count": 8,
   "metadata": {},
   "outputs": [
    {
     "data": {
      "text/plain": [
       "Id           838\n",
       "OrderId      838\n",
       "ProductId    838\n",
       "UnitPrice    838\n",
       "Quantity     838\n",
       "Discount     838\n",
       "dtype: int64"
      ]
     },
     "execution_count": 8,
     "metadata": {},
     "output_type": "execute_result"
    }
   ],
   "source": [
    "OrderDetail[(OrderDetail.Discount != 0)].count()"
   ]
  },
  {
   "cell_type": "code",
   "execution_count": 9,
   "metadata": {},
   "outputs": [
    {
     "data": {
      "text/html": [
       "<div>\n",
       "<style scoped>\n",
       "    .dataframe tbody tr th:only-of-type {\n",
       "        vertical-align: middle;\n",
       "    }\n",
       "\n",
       "    .dataframe tbody tr th {\n",
       "        vertical-align: top;\n",
       "    }\n",
       "\n",
       "    .dataframe thead th {\n",
       "        text-align: right;\n",
       "    }\n",
       "</style>\n",
       "<table border=\"1\" class=\"dataframe\">\n",
       "  <thead>\n",
       "    <tr style=\"text-align: right;\">\n",
       "      <th></th>\n",
       "      <th>count</th>\n",
       "      <th>sum</th>\n",
       "      <th>%_disc</th>\n",
       "    </tr>\n",
       "    <tr>\n",
       "      <th>Discount</th>\n",
       "      <th></th>\n",
       "      <th></th>\n",
       "      <th></th>\n",
       "    </tr>\n",
       "  </thead>\n",
       "  <tbody>\n",
       "    <tr>\n",
       "      <th>0.00</th>\n",
       "      <td>1317</td>\n",
       "      <td>28599</td>\n",
       "      <td>61.0</td>\n",
       "    </tr>\n",
       "    <tr>\n",
       "      <th>0.01</th>\n",
       "      <td>1</td>\n",
       "      <td>2</td>\n",
       "      <td>0.0</td>\n",
       "    </tr>\n",
       "    <tr>\n",
       "      <th>0.02</th>\n",
       "      <td>2</td>\n",
       "      <td>4</td>\n",
       "      <td>0.0</td>\n",
       "    </tr>\n",
       "    <tr>\n",
       "      <th>0.03</th>\n",
       "      <td>3</td>\n",
       "      <td>5</td>\n",
       "      <td>0.0</td>\n",
       "    </tr>\n",
       "    <tr>\n",
       "      <th>0.04</th>\n",
       "      <td>1</td>\n",
       "      <td>1</td>\n",
       "      <td>0.0</td>\n",
       "    </tr>\n",
       "    <tr>\n",
       "      <th>0.05</th>\n",
       "      <td>185</td>\n",
       "      <td>5182</td>\n",
       "      <td>9.0</td>\n",
       "    </tr>\n",
       "    <tr>\n",
       "      <th>0.06</th>\n",
       "      <td>1</td>\n",
       "      <td>2</td>\n",
       "      <td>0.0</td>\n",
       "    </tr>\n",
       "    <tr>\n",
       "      <th>0.10</th>\n",
       "      <td>173</td>\n",
       "      <td>4366</td>\n",
       "      <td>8.0</td>\n",
       "    </tr>\n",
       "    <tr>\n",
       "      <th>0.15</th>\n",
       "      <td>157</td>\n",
       "      <td>4456</td>\n",
       "      <td>7.0</td>\n",
       "    </tr>\n",
       "    <tr>\n",
       "      <th>0.20</th>\n",
       "      <td>161</td>\n",
       "      <td>4351</td>\n",
       "      <td>7.0</td>\n",
       "    </tr>\n",
       "    <tr>\n",
       "      <th>0.25</th>\n",
       "      <td>154</td>\n",
       "      <td>4349</td>\n",
       "      <td>7.0</td>\n",
       "    </tr>\n",
       "  </tbody>\n",
       "</table>\n",
       "</div>"
      ],
      "text/plain": [
       "          count    sum  %_disc\n",
       "Discount                      \n",
       "0.00       1317  28599    61.0\n",
       "0.01          1      2     0.0\n",
       "0.02          2      4     0.0\n",
       "0.03          3      5     0.0\n",
       "0.04          1      1     0.0\n",
       "0.05        185   5182     9.0\n",
       "0.06          1      2     0.0\n",
       "0.10        173   4366     8.0\n",
       "0.15        157   4456     7.0\n",
       "0.20        161   4351     7.0\n",
       "0.25        154   4349     7.0"
      ]
     },
     "execution_count": 9,
     "metadata": {},
     "output_type": "execute_result"
    }
   ],
   "source": [
    "#Inspect the total quantity per discount amount as well as the total quantities in each discount level.\n",
    "pct_discount = OrderDetail.groupby('Discount').Quantity.agg(['count','sum'])\n",
    "pct_discount['%_disc'] = (OrderDetail.groupby('Discount').Quantity.agg(['count']) / len(OrderDetail) *100).round()\n",
    "pct_discount"
   ]
  },
  {
   "cell_type": "markdown",
   "metadata": {},
   "source": [
    "+ There are no missing values in the OrderDetail Table.     \n",
    "+ 61% (1317 out of 2155) of the Total Orders are without Discounts and 39% (838 fo 2155) of the Orders are with discounts applied.  \n",
    "+ Most orders have either 5%, 10%, 20%, 15%, or 25% discounts applied to them.  \n",
    "+ The top 5 Order Quantity are 20, 30, 10, 15, 40.  \n"
   ]
  },
  {
   "cell_type": "code",
   "execution_count": 10,
   "metadata": {},
   "outputs": [
    {
     "data": {
      "text/html": [
       "<div>\n",
       "<style scoped>\n",
       "    .dataframe tbody tr th:only-of-type {\n",
       "        vertical-align: middle;\n",
       "    }\n",
       "\n",
       "    .dataframe tbody tr th {\n",
       "        vertical-align: top;\n",
       "    }\n",
       "\n",
       "    .dataframe thead th {\n",
       "        text-align: right;\n",
       "    }\n",
       "</style>\n",
       "<table border=\"1\" class=\"dataframe\">\n",
       "  <thead>\n",
       "    <tr style=\"text-align: right;\">\n",
       "      <th></th>\n",
       "      <th>count</th>\n",
       "      <th>sum</th>\n",
       "    </tr>\n",
       "    <tr>\n",
       "      <th>Discount</th>\n",
       "      <th></th>\n",
       "      <th></th>\n",
       "    </tr>\n",
       "  </thead>\n",
       "  <tbody>\n",
       "    <tr>\n",
       "      <th>0.00</th>\n",
       "      <td>1317</td>\n",
       "      <td>28599</td>\n",
       "    </tr>\n",
       "    <tr>\n",
       "      <th>0.05</th>\n",
       "      <td>193</td>\n",
       "      <td>5196</td>\n",
       "    </tr>\n",
       "    <tr>\n",
       "      <th>0.10</th>\n",
       "      <td>173</td>\n",
       "      <td>4366</td>\n",
       "    </tr>\n",
       "    <tr>\n",
       "      <th>0.15</th>\n",
       "      <td>157</td>\n",
       "      <td>4456</td>\n",
       "    </tr>\n",
       "    <tr>\n",
       "      <th>0.20</th>\n",
       "      <td>161</td>\n",
       "      <td>4351</td>\n",
       "    </tr>\n",
       "    <tr>\n",
       "      <th>0.25</th>\n",
       "      <td>154</td>\n",
       "      <td>4349</td>\n",
       "    </tr>\n",
       "  </tbody>\n",
       "</table>\n",
       "</div>"
      ],
      "text/plain": [
       "          count    sum\n",
       "Discount              \n",
       "0.00       1317  28599\n",
       "0.05        193   5196\n",
       "0.10        173   4366\n",
       "0.15        157   4456\n",
       "0.20        161   4351\n",
       "0.25        154   4349"
      ]
     },
     "execution_count": 10,
     "metadata": {},
     "output_type": "execute_result"
    }
   ],
   "source": [
    "#Let's change 8 records with 0% discount amounts to 5% before moving on to the next step\n",
    "OrderDetail['Discount'] = OrderDetail['Discount'].apply(lambda x: 0.05 if (x > 0) & (x < 0.10) else x)\n",
    "OrderDetail.groupby('Discount').Quantity.agg(['count','sum'])"
   ]
  },
  {
   "cell_type": "markdown",
   "metadata": {},
   "source": [
    "[<a href=\"#Module-3-Final-Project\">Jump back to Table of Contents</a>]  \n",
    " "
   ]
  },
  {
   "cell_type": "markdown",
   "metadata": {},
   "source": [
    "## 3. Exploring the Data"
   ]
  },
  {
   "cell_type": "markdown",
   "metadata": {},
   "source": [
    "In this step, we will explore the data to understand the business problem/question and help find the appropriate hypothesis test (test statistic) to use. We will compare two groups by comparing the means of two distributions to determine if discounts would have an effect on the quantity of products ordered and we would like to explore the data and go through our checklist of assumptions needed to conduct a valid two sample test. We would also explore other features that may help the organization decide on which other metrics to test for optimizing discount pricing strategies. \n"
   ]
  },
  {
   "cell_type": "markdown",
   "metadata": {},
   "source": [
    "### 3a. Descriptive Statistics"
   ]
  },
  {
   "cell_type": "code",
   "execution_count": 11,
   "metadata": {},
   "outputs": [
    {
     "data": {
      "text/html": [
       "<div>\n",
       "<style scoped>\n",
       "    .dataframe tbody tr th:only-of-type {\n",
       "        vertical-align: middle;\n",
       "    }\n",
       "\n",
       "    .dataframe tbody tr th {\n",
       "        vertical-align: top;\n",
       "    }\n",
       "\n",
       "    .dataframe thead th {\n",
       "        text-align: right;\n",
       "    }\n",
       "</style>\n",
       "<table border=\"1\" class=\"dataframe\">\n",
       "  <thead>\n",
       "    <tr style=\"text-align: right;\">\n",
       "      <th></th>\n",
       "      <th>Quantity</th>\n",
       "      <th>Discount</th>\n",
       "    </tr>\n",
       "  </thead>\n",
       "  <tbody>\n",
       "    <tr>\n",
       "      <th>count</th>\n",
       "      <td>2155.000000</td>\n",
       "      <td>2155.000000</td>\n",
       "    </tr>\n",
       "    <tr>\n",
       "      <th>mean</th>\n",
       "      <td>23.812993</td>\n",
       "      <td>0.056241</td>\n",
       "    </tr>\n",
       "    <tr>\n",
       "      <th>std</th>\n",
       "      <td>19.022047</td>\n",
       "      <td>0.083431</td>\n",
       "    </tr>\n",
       "    <tr>\n",
       "      <th>min</th>\n",
       "      <td>1.000000</td>\n",
       "      <td>0.000000</td>\n",
       "    </tr>\n",
       "    <tr>\n",
       "      <th>25%</th>\n",
       "      <td>10.000000</td>\n",
       "      <td>0.000000</td>\n",
       "    </tr>\n",
       "    <tr>\n",
       "      <th>50%</th>\n",
       "      <td>20.000000</td>\n",
       "      <td>0.000000</td>\n",
       "    </tr>\n",
       "    <tr>\n",
       "      <th>75%</th>\n",
       "      <td>30.000000</td>\n",
       "      <td>0.100000</td>\n",
       "    </tr>\n",
       "    <tr>\n",
       "      <th>max</th>\n",
       "      <td>130.000000</td>\n",
       "      <td>0.250000</td>\n",
       "    </tr>\n",
       "  </tbody>\n",
       "</table>\n",
       "</div>"
      ],
      "text/plain": [
       "          Quantity     Discount\n",
       "count  2155.000000  2155.000000\n",
       "mean     23.812993     0.056241\n",
       "std      19.022047     0.083431\n",
       "min       1.000000     0.000000\n",
       "25%      10.000000     0.000000\n",
       "50%      20.000000     0.000000\n",
       "75%      30.000000     0.100000\n",
       "max     130.000000     0.250000"
      ]
     },
     "execution_count": 11,
     "metadata": {},
     "output_type": "execute_result"
    }
   ],
   "source": [
    "#Let's check the Descriptive Statistics to determine the Count, Mean, and the Standard Deviation of the distribution\n",
    "OrderDetail[['Quantity','Discount']].describe()"
   ]
  },
  {
   "cell_type": "code",
   "execution_count": 12,
   "metadata": {
    "scrolled": true
   },
   "outputs": [
    {
     "name": "stdout",
     "output_type": "stream",
     "text": [
      "The average quantity ordered is  23.81 with a minimum quantity of 1 , maximum of  130\n",
      "The average discount amount is  0.06 with a minimum discount of 0.0 , maximum of  0.25\n",
      "----------------------------------------\n",
      "Quantity has a standard deviation of  19.022\n",
      "Discount has a standard deviation of  0.083\n"
     ]
    }
   ],
   "source": [
    "MeanQuantity = (OrderDetail['Quantity'].mean())\n",
    "MeanDiscount = (OrderDetail['Discount'].mean())\n",
    "StdDevQty = (OrderDetail['Quantity'].std())\n",
    "StdDevDscnt = (OrderDetail['Discount'].std())\n",
    "RelativeStdDevQty = (StdDevQty/MeanQuantity)  * 100\n",
    "RelativeStdDevDscnt = (StdDevDscnt/MeanDiscount)  * 100\n",
    "\n",
    "print('The average quantity ordered is ', (MeanQuantity.round(2)), \n",
    "      'with a minimum quantity of',(OrderDetail['Quantity'].min()), \n",
    "      ', maximum of ', (OrderDetail['Quantity'].max()))\n",
    "print('The average discount amount is ', (MeanDiscount.round(2)), \n",
    "      'with a minimum discount of',(OrderDetail['Discount'].min()), \n",
    "      ', maximum of ', (OrderDetail['Discount'].max()))\n",
    "print('----------------------------------------')\n",
    "print('Quantity has a standard deviation of ', StdDevQty.round(3))\n",
    "print('Discount has a standard deviation of ', StdDevDscnt.round(3))\n"
   ]
  },
  {
   "cell_type": "code",
   "execution_count": 13,
   "metadata": {},
   "outputs": [
    {
     "data": {
      "text/html": [
       "<div>\n",
       "<style scoped>\n",
       "    .dataframe tbody tr th:only-of-type {\n",
       "        vertical-align: middle;\n",
       "    }\n",
       "\n",
       "    .dataframe tbody tr th {\n",
       "        vertical-align: top;\n",
       "    }\n",
       "\n",
       "    .dataframe thead th {\n",
       "        text-align: right;\n",
       "    }\n",
       "</style>\n",
       "<table border=\"1\" class=\"dataframe\">\n",
       "  <thead>\n",
       "    <tr style=\"text-align: right;\">\n",
       "      <th></th>\n",
       "      <th>Id</th>\n",
       "      <th>OrderId</th>\n",
       "      <th>ProductId</th>\n",
       "      <th>UnitPrice</th>\n",
       "      <th>Quantity</th>\n",
       "      <th>Discount</th>\n",
       "    </tr>\n",
       "  </thead>\n",
       "  <tbody>\n",
       "    <tr>\n",
       "      <th>6</th>\n",
       "      <td>10250/51</td>\n",
       "      <td>10250</td>\n",
       "      <td>51</td>\n",
       "      <td>42.4</td>\n",
       "      <td>35</td>\n",
       "      <td>0.15</td>\n",
       "    </tr>\n",
       "    <tr>\n",
       "      <th>7</th>\n",
       "      <td>10250/65</td>\n",
       "      <td>10250</td>\n",
       "      <td>65</td>\n",
       "      <td>16.8</td>\n",
       "      <td>15</td>\n",
       "      <td>0.15</td>\n",
       "    </tr>\n",
       "    <tr>\n",
       "      <th>8</th>\n",
       "      <td>10251/22</td>\n",
       "      <td>10251</td>\n",
       "      <td>22</td>\n",
       "      <td>16.8</td>\n",
       "      <td>6</td>\n",
       "      <td>0.05</td>\n",
       "    </tr>\n",
       "    <tr>\n",
       "      <th>9</th>\n",
       "      <td>10251/57</td>\n",
       "      <td>10251</td>\n",
       "      <td>57</td>\n",
       "      <td>15.6</td>\n",
       "      <td>15</td>\n",
       "      <td>0.05</td>\n",
       "    </tr>\n",
       "    <tr>\n",
       "      <th>11</th>\n",
       "      <td>10252/20</td>\n",
       "      <td>10252</td>\n",
       "      <td>20</td>\n",
       "      <td>64.8</td>\n",
       "      <td>40</td>\n",
       "      <td>0.05</td>\n",
       "    </tr>\n",
       "  </tbody>\n",
       "</table>\n",
       "</div>"
      ],
      "text/plain": [
       "          Id  OrderId  ProductId  UnitPrice  Quantity  Discount\n",
       "6   10250/51    10250         51       42.4        35      0.15\n",
       "7   10250/65    10250         65       16.8        15      0.15\n",
       "8   10251/22    10251         22       16.8         6      0.05\n",
       "9   10251/57    10251         57       15.6        15      0.05\n",
       "11  10252/20    10252         20       64.8        40      0.05"
      ]
     },
     "metadata": {},
     "output_type": "display_data"
    },
    {
     "data": {
      "text/html": [
       "<div>\n",
       "<style scoped>\n",
       "    .dataframe tbody tr th:only-of-type {\n",
       "        vertical-align: middle;\n",
       "    }\n",
       "\n",
       "    .dataframe tbody tr th {\n",
       "        vertical-align: top;\n",
       "    }\n",
       "\n",
       "    .dataframe thead th {\n",
       "        text-align: right;\n",
       "    }\n",
       "</style>\n",
       "<table border=\"1\" class=\"dataframe\">\n",
       "  <thead>\n",
       "    <tr style=\"text-align: right;\">\n",
       "      <th></th>\n",
       "      <th>Id</th>\n",
       "      <th>OrderId</th>\n",
       "      <th>ProductId</th>\n",
       "      <th>UnitPrice</th>\n",
       "      <th>Quantity</th>\n",
       "      <th>Discount</th>\n",
       "    </tr>\n",
       "  </thead>\n",
       "  <tbody>\n",
       "    <tr>\n",
       "      <th>0</th>\n",
       "      <td>10248/11</td>\n",
       "      <td>10248</td>\n",
       "      <td>11</td>\n",
       "      <td>14.0</td>\n",
       "      <td>12</td>\n",
       "      <td>0.0</td>\n",
       "    </tr>\n",
       "    <tr>\n",
       "      <th>1</th>\n",
       "      <td>10248/42</td>\n",
       "      <td>10248</td>\n",
       "      <td>42</td>\n",
       "      <td>9.8</td>\n",
       "      <td>10</td>\n",
       "      <td>0.0</td>\n",
       "    </tr>\n",
       "    <tr>\n",
       "      <th>2</th>\n",
       "      <td>10248/72</td>\n",
       "      <td>10248</td>\n",
       "      <td>72</td>\n",
       "      <td>34.8</td>\n",
       "      <td>5</td>\n",
       "      <td>0.0</td>\n",
       "    </tr>\n",
       "    <tr>\n",
       "      <th>3</th>\n",
       "      <td>10249/14</td>\n",
       "      <td>10249</td>\n",
       "      <td>14</td>\n",
       "      <td>18.6</td>\n",
       "      <td>9</td>\n",
       "      <td>0.0</td>\n",
       "    </tr>\n",
       "    <tr>\n",
       "      <th>4</th>\n",
       "      <td>10249/51</td>\n",
       "      <td>10249</td>\n",
       "      <td>51</td>\n",
       "      <td>42.4</td>\n",
       "      <td>40</td>\n",
       "      <td>0.0</td>\n",
       "    </tr>\n",
       "  </tbody>\n",
       "</table>\n",
       "</div>"
      ],
      "text/plain": [
       "         Id  OrderId  ProductId  UnitPrice  Quantity  Discount\n",
       "0  10248/11    10248         11       14.0        12       0.0\n",
       "1  10248/42    10248         42        9.8        10       0.0\n",
       "2  10248/72    10248         72       34.8         5       0.0\n",
       "3  10249/14    10249         14       18.6         9       0.0\n",
       "4  10249/51    10249         51       42.4        40       0.0"
      ]
     },
     "metadata": {},
     "output_type": "display_data"
    }
   ],
   "source": [
    "#Let's inspect further the Orders with or without discounts applied and create 2 groups (w/ & w/o discounts)\n",
    "DiscountedOrder = pd.DataFrame(OrderDetail[(OrderDetail.Discount != 0)])\n",
    "NondiscountedOrder = pd.DataFrame(OrderDetail[OrderDetail.Discount == 0])\n",
    "\n",
    "display(DiscountedOrder.head(), NondiscountedOrder.head())"
   ]
  },
  {
   "cell_type": "code",
   "execution_count": 14,
   "metadata": {},
   "outputs": [
    {
     "data": {
      "text/plain": [
       "Text(0.5, 1.0, 'Distribution of Discounts > 0')"
      ]
     },
     "execution_count": 14,
     "metadata": {},
     "output_type": "execute_result"
    },
    {
     "data": {
      "image/png": "[encoded data removed]",
      "text/plain": [
       "<Figure size 1296x576 with 3 Axes>"
      ]
     },
     "metadata": {
      "needs_background": "light"
     },
     "output_type": "display_data"
    }
   ],
   "source": [
    "#visualize the distribution of Quantity & Discount variables.\n",
    "%matplotlib inline\n",
    "fig, axes = plt.subplots(nrows=1, ncols=3, figsize=(18,8))\n",
    "\n",
    "sns.violinplot( ax = axes[0], y = OrderDetail['Quantity'], color='PALEVIOLETRED' ) \n",
    "axes[0].set_title('Distribution of Quantity Feature', fontsize = 14)\n",
    "\n",
    "sns.violinplot( ax = axes[1], y = OrderDetail['Discount'], color='slateblue' ) \n",
    "axes[1].set_title('Distribution of Discount Feature',fontsize = 14)\n",
    "\n",
    "#Visualize the distribution of data in the discounted orders\n",
    "sns.violinplot( ax = axes[2], y = DiscountedOrder['Discount'], color='mediumslateblue') \n",
    "axes[2].set_title('Distribution of Discounts > 0',fontsize = 14)\n"
   ]
  },
  {
   "cell_type": "markdown",
   "metadata": {},
   "source": [
    "+ We have a higher Quantity density between 0 and 40 in the OrderDetail table distribution. (Mean Quantity is 23.81).  \n",
    "+ We have the highest Discount density for 0.0 discount amount in the OrderDetail table distribution.   \n",
    "+ However, for Orders with discounts applied, we have a higher Discount density at  5%, 10%, 20%, 15%, and 25% discount amounts.   \n"
   ]
  },
  {
   "cell_type": "code",
   "execution_count": 15,
   "metadata": {},
   "outputs": [
    {
     "data": {
      "text/plain": [
       "Text(0, 0.5, 'Quantity')"
      ]
     },
     "execution_count": 15,
     "metadata": {},
     "output_type": "execute_result"
    },
    {
     "data": {
      "image/png": "[encoded data removed]",
      "text/plain": [
       "<Figure size 1152x432 with 1 Axes>"
      ]
     },
     "metadata": {
      "needs_background": "light"
     },
     "output_type": "display_data"
    }
   ],
   "source": [
    "#historical data - for us to prove\n",
    "fig, ax = plt.subplots(figsize = (16, 6))\n",
    "DiscountedOrders = DiscountedOrder.groupby('ProductId')['Quantity'].mean()\n",
    "NondiscountedOrders = NondiscountedOrder.groupby('ProductId')['Quantity'].mean()\n",
    "\n",
    "plt.plot(DiscountedOrders.index, DiscountedOrders.values, alpha=1, label='Orders with Discount', color='darkred')\n",
    "plt.bar(NondiscountedOrders.index, NondiscountedOrders.values, alpha=1, label='No Discount', color='pink')\n",
    "ax.axhline(y = OrderDetail['Quantity'].mean(),linestyle='-.',color='green', label = 'Overall Mean Quantity' )\n",
    "\n",
    "plt.legend(fontsize = 16)\n",
    "plt.title('Average Quantities Ordered by Product', fontsize = 19)\n",
    "plt.xlabel('Product ID', fontsize = 19)\n",
    "plt.ylabel('Quantity', fontsize = 19)\n"
   ]
  },
  {
   "cell_type": "code",
   "execution_count": 16,
   "metadata": {},
   "outputs": [
    {
     "data": {
      "text/plain": [
       "Text(0, 0.5, 'Mean')"
      ]
     },
     "execution_count": 16,
     "metadata": {},
     "output_type": "execute_result"
    },
    {
     "data": {
      "image/png": "[encoded data removed]",
      "text/plain": [
       "<Figure size 1152x432 with 1 Axes>"
      ]
     },
     "metadata": {
      "needs_background": "light"
     },
     "output_type": "display_data"
    },
    {
     "data": {
      "image/png": "[encoded data removed]",
      "text/plain": [
       "<Figure size 1152x432 with 1 Axes>"
      ]
     },
     "metadata": {
      "needs_background": "light"
     },
     "output_type": "display_data"
    },
    {
     "data": {
      "image/png": "[encoded data removed]",
      "text/plain": [
       "<Figure size 1152x432 with 1 Axes>"
      ]
     },
     "metadata": {
      "needs_background": "light"
     },
     "output_type": "display_data"
    }
   ],
   "source": [
    "#Check the average quantity of Orders by Product Category\n",
    "q1 = \"\"\"SELECT  c.CategoryName, AVG(o.Quantity) as AverageQuantity \n",
    "        FROM OrderDetail o\n",
    "        JOIN Product p on p.Id = o.ProductId\n",
    "        JOIN Category as c on c.Id = p.CategoryId\n",
    "        GROUP BY c.CategoryName\n",
    "        ORDER BY  2 DESC;\"\"\"\n",
    "#Check the average unit stock of Orders by Product Category\n",
    "q2 = \"\"\"SELECT  c.CategoryName , AVG(p.UnitsInStock) as AverageUnitsStock\n",
    "        FROM OrderDetail d\n",
    "        JOIN Product p on p.Id = d.ProductId\n",
    "        JOIN Category as c on c.Id = p.CategoryId\n",
    "        GROUP BY c.CategoryName\n",
    "        ORDER BY  2 DESC;\"\"\"\n",
    "#Check the average quantity of Orders by Salesperson\n",
    "q3 =\"\"\"SELECT  e.Id  as Salesperson, AVG(o.Quantity) as AverageQuantity \n",
    "        FROM Orders b \n",
    "        JOIN Employee e on e.Id = b.EmployeeID\n",
    "        JOIN OrderDetail o on b.Id = o.OrderID\n",
    "        WHERE   o.Quantity is not null \n",
    "        GROUP BY e.Id\n",
    "        ORDER BY 2 DESC;\"\"\"\n",
    "#Check the average quantity of Orders by Customer Country\n",
    "q4 ='''SELECT  c.Country, \n",
    "        (d.UnitPrice * d.Quantity * (1 - d.Discount)) as TotalSales   \n",
    "        FROM Orders b \n",
    "        INNER JOIN Customer c on c.Id = b.CustomerID\n",
    "        INNER JOIN OrderDetail d on b.Id = d.OrderID \n",
    "        GROUP BY c.Country\n",
    "        ORDER BY 2 DESC ;'''\n",
    "\n",
    "cat_qty = pysqldf(q1)\n",
    "stck_qty  = pysqldf(q2)\n",
    "salep_qty  = pysqldf(q3)\n",
    "custdf = pysqldf(q4)\n",
    "\n",
    "#Create the chart for average quantity of Orders by Product Category\n",
    "fig, ax = plt.subplots(figsize = (16, 6))\n",
    "plt.plot(cat_qty['CategoryName'],cat_qty['AverageQuantity'], alpha=.5,color='red')\n",
    "plt.bar(stck_qty['CategoryName'],stck_qty['AverageUnitsStock'], alpha=1, label = 'Average Units in Stock', color='mediumslateblue')\n",
    "\n",
    "plt.legend(fontsize = 19)\n",
    "plt.title('Average Quantity of Order and Average Unit Stock of Product Categories', fontsize = 19)\n",
    "plt.xlabel('Product Category', fontsize = 19)\n",
    "plt.ylabel('Mean', fontsize = 19)\n",
    "\n",
    "#Check the chart for average quantity of Orders by Salesperson\n",
    "fig, ax = plt.subplots(figsize = (16, 6))\n",
    "plt.bar(salep_qty['Salesperson'],salep_qty['AverageQuantity'], alpha=1, label = 'AverageQuantity', color='darkcyan')\n",
    "ax.axhline(y = OrderDetail['Quantity'].mean(),linestyle='-.',color='green', label = 'Overall Mean Quantity' )\n",
    "\n",
    "plt.legend(fontsize = 19)\n",
    "plt.title('Average Quantity of Order by Salesperson', fontsize = 19)\n",
    "plt.xlabel('Salesperson', fontsize = 19)\n",
    "plt.ylabel('Mean', fontsize = 19)\n",
    "plt.xticks(rotation = 0,fontsize =14)\n",
    "\n",
    "#Check the average quantity of Orders by Customer Country\n",
    "fig, ax = plt.subplots(figsize = (16, 6))\n",
    "plt.bar(custdf['Country'],custdf['TotalSales'], alpha=1, label = 'Mean Total Sales', color='PALEVIOLETRED')\n",
    "ax.axhline(y = custdf['TotalSales'].mean(),linestyle='-.',color='green', label = 'Overall Average TotalSales' )\n",
    "\n",
    "plt.legend(fontsize = 19)\n",
    "plt.title('Average Total Sales by Country', fontsize = 19)\n",
    "plt.xlabel('Country', fontsize = 19)\n",
    "plt.xticks(rotation = 45,fontsize =16)\n",
    "plt.ylabel('Mean', fontsize = 19)\n"
   ]
  },
  {
   "cell_type": "code",
   "execution_count": 17,
   "metadata": {},
   "outputs": [
    {
     "name": "stdout",
     "output_type": "stream",
     "text": [
      "As per past Northwind Order history:\n",
      "70.0% of discounted products have larger quantities than the products ordered without discounts.\n",
      "The Overall Mean Quantity is 23.81 -  Average order quantity with discount - 26.43 items, without - 21.81 items\n"
     ]
    }
   ],
   "source": [
    "print('As per past Northwind Order history:')\n",
    "print('{}% of discounted products have larger quantities than the products ordered without discounts.'.format(round(sum(DiscountedOrders.values > NondiscountedOrders.values)/len(DiscountedOrders.values)*100),2))\n",
    "print('The Overall Mean Quantity is', OrderDetail['Quantity'].mean().round(2), '-  Average order quantity with discount - {} items, without - {} items'.format(round(DiscountedOrders.values.mean(),2), round(NondiscountedOrders.values.mean(),2)))\n"
   ]
  },
  {
   "cell_type": "markdown",
   "metadata": {},
   "source": [
    "The idea that the customers tend to increase the quantity of products ordered if it was discounted, is evident in the data. Before we proceed with proving that our hypothesis is correct, we will continue with our data analysis to determine the appropriate test to use and if the assumptions of those specific tests are met.\n"
   ]
  },
  {
   "cell_type": "markdown",
   "metadata": {},
   "source": [
    "[<a href=\"#Module-3-Final-Project\">Jump back to Table of Contents</a>]  \n",
    " "
   ]
  },
  {
   "cell_type": "markdown",
   "metadata": {},
   "source": [
    "### 3b. Outliers Check  "
   ]
  },
  {
   "cell_type": "code",
   "execution_count": 18,
   "metadata": {},
   "outputs": [
    {
     "name": "stdout",
     "output_type": "stream",
     "text": [
      "OrderId      411.5\n",
      "ProductId     38.0\n",
      "UnitPrice     20.0\n",
      "Quantity      20.0\n",
      "Discount       0.1\n",
      "dtype: float64\n"
     ]
    },
    {
     "data": {
      "text/plain": [
       "<matplotlib.axes._subplots.AxesSubplot at 0x7fad696c6438>"
      ]
     },
     "execution_count": 18,
     "metadata": {},
     "output_type": "execute_result"
    },
    {
     "data": {
      "image/png": "[encoded data removed]",
      "text/plain": [
       "<Figure size 1152x432 with 2 Axes>"
      ]
     },
     "metadata": {
      "needs_background": "light"
     },
     "output_type": "display_data"
    }
   ],
   "source": [
    "#Check for Outliers\n",
    "Q1 = OrderDetail.quantile(0.25)\n",
    "Q3 = OrderDetail.quantile(0.75)\n",
    "IQR = Q3 - Q1\n",
    "print(IQR) #get the IQR for each column and get the list of outliers\n",
    "\n",
    "#Visually inspect for Outliers \n",
    "fig = plt.figure(figsize=(16,6))\n",
    "a1 = fig.add_subplot(221)\n",
    "sns.boxplot(OrderDetail['Quantity'] ,color='SEAGREEN')\n",
    "a2 = fig.add_subplot(222)\n",
    "sns.boxplot( OrderDetail['Discount'] , OrderDetail['Quantity'])\n"
   ]
  },
  {
   "cell_type": "markdown",
   "metadata": {},
   "source": [
    "   To avoid risk of biasing the results by removing these outliers, as they may represent a certain segment of the population, we will proceed with the test without removing them and will check for other assumptions before running the hypothesis test.  \n",
    "   \n",
    "   We will be creating sample distributions/resampling, and recognize that the data is not perfectly normally distributed but the additional visualization steps below will help us determine if our data is normal enough for the assumptions to hold. "
   ]
  },
  {
   "cell_type": "markdown",
   "metadata": {},
   "source": [
    "[<a href=\"#Module-3-Final-Project\">Jump back to Table of Contents</a>]  \n",
    " "
   ]
  },
  {
   "cell_type": "markdown",
   "metadata": {},
   "source": [
    "### 3c. Normality check  "
   ]
  },
  {
   "cell_type": "code",
   "execution_count": 19,
   "metadata": {},
   "outputs": [
    {
     "data": {
      "text/plain": [
       "<matplotlib.legend.Legend at 0x7fad18eb3978>"
      ]
     },
     "execution_count": 19,
     "metadata": {},
     "output_type": "execute_result"
    },
    {
     "data": {
      "image/png": "[encoded data removed]",
      "text/plain": [
       "<Figure size 1152x432 with 2 Axes>"
      ]
     },
     "metadata": {
      "needs_background": "light"
     },
     "output_type": "display_data"
    }
   ],
   "source": [
    "#Let's inspect the distribution\n",
    "#Plot a histogram for the Quantity of Orders\n",
    "\n",
    "fig = plt.figure(figsize=(16,6))\n",
    "a1 = fig.add_subplot(221)\n",
    "sns.distplot(OrderDetail['Quantity'])\n",
    "\n",
    "plt.axvline(x=OrderDetail['Quantity'].mean(), color='r', linestyle='--',label = 'Overall Mean Quantity')\n",
    "plt.axvline(x=DiscountedOrder['Quantity'].mean(), color='g', linestyle='--',label = 'Mean of Discounted Orders')\n",
    "plt.title('Distribution of Order Quantity', fontsize=16)\n",
    "plt.xlabel('Quantity of product ordered', fontsize=16)\n",
    "plt.xlabel('Quantity')\n",
    "plt.ylabel('Frequency')\n",
    "plt.legend(fontsize = 12)\n",
    "#Plot a histogram for the Quantity of Orders\n",
    "a2 = fig.add_subplot(222)\n",
    "sns.distplot(OrderDetail['Discount'])\n",
    "\n",
    "plt.axvline(x=OrderDetail['Discount'].mean(), color='r', linestyle='--',label = 'Overall Mean Discount')\n",
    "plt.axvline(x=DiscountedOrder['Discount'].mean(), color='g', linestyle='--',label = 'Avg Discount level Discounted Orders')\n",
    "plt.title('Distribution of Discount', fontsize=16)\n",
    "plt.xlabel('Discount amount of product ordered', fontsize=16)\n",
    "plt.xlabel('Discount')\n",
    "plt.ylabel('Frequency')\n",
    "plt.legend(fontsize = 10)"
   ]
  },
  {
   "cell_type": "code",
   "execution_count": 20,
   "metadata": {},
   "outputs": [
    {
     "data": {
      "text/plain": [
       "Text(0.5, 1.0, 'Quantity Q-Q plot ')"
      ]
     },
     "execution_count": 20,
     "metadata": {},
     "output_type": "execute_result"
    },
    {
     "data": {
      "image/png": "[encoded data removed]",
      "text/plain": [
       "<Figure size 432x288 with 1 Axes>"
      ]
     },
     "metadata": {
      "needs_background": "light"
     },
     "output_type": "display_data"
    }
   ],
   "source": [
    "#Inspect the QQ plot for the Quantity of Orders\n",
    "\n",
    "qqplot(OrderDetail.Quantity, line = 's')\n",
    "plt.title('Quantity Q-Q plot ')\n"
   ]
  },
  {
   "cell_type": "markdown",
   "metadata": {},
   "source": [
    "The Quantity distribution shows a positive skew with heavy tails on the right and skewness greater than the theoretical distribution.  \n",
    "The Discount distribution shows a spike of constant values (values aligned horizontally) and more concentration on the 0 quantile.  \n",
    "The QQplot shows deviation at the top and bottom of the plot\n",
    "\n",
    "Our data is not normal however, the test that we will be performing involves inferences about the means. There are certain tests that are \"robust\" to the assumption of normality, including t-tests (1-sample, 2-sample, and paired t-tests) and Analysis of Variance (ANOVA)."
   ]
  },
  {
   "cell_type": "markdown",
   "metadata": {},
   "source": [
    "[<a href=\"#Module-3-Final-Project\">Jump back to Table of Contents</a>]  \n",
    " "
   ]
  },
  {
   "cell_type": "markdown",
   "metadata": {},
   "source": [
    "### 3d. Sample Size and Data type check  "
   ]
  },
  {
   "cell_type": "markdown",
   "metadata": {},
   "source": [
    "In this experiment, we will be comparing two groups, the control group will represent the Quantity of Orders without discounts and the experimental group, the Quantity of Orders with discounts.  \n",
    "The assumption is that the sample sizes of each group would be equal and more than 30 records per group in order to obtain reliable estimates of variation.  \n",
    "The mathematical basis of the t-test assumes that the data are continuous. \n",
    "Based on the Data, Sample Size, and Purpose of the test i.e. to compare two different numerical samples, we will be using the \"2 Sample T-test\"  ttest_ind , pval = ttest_ind(exp, control) "
   ]
  },
  {
   "cell_type": "code",
   "execution_count": 21,
   "metadata": {},
   "outputs": [],
   "source": [
    "# Let's create a new dataframe for the control and experimental groups\n",
    "nodiscount = OrderDetail[OrderDetail['Discount'] == 0]\n",
    "nodiscount = nodiscount['Quantity']\n",
    "discount = OrderDetail[OrderDetail['Discount'] != 0]\n",
    "discount = discount['Quantity']\n"
   ]
  },
  {
   "cell_type": "code",
   "execution_count": 22,
   "metadata": {},
   "outputs": [
    {
     "data": {
      "text/plain": [
       "Text(0.5, 1.0, 'Mean Quantity of Products Ordered')"
      ]
     },
     "execution_count": 22,
     "metadata": {},
     "output_type": "execute_result"
    },
    {
     "data": {
      "image/png": "[encoded data removed]",
      "text/plain": [
       "<Figure size 720x432 with 1 Axes>"
      ]
     },
     "metadata": {
      "needs_background": "light"
     },
     "output_type": "display_data"
    }
   ],
   "source": [
    "# Estimating standard error of the mean- measure of the dispersion of sample means \n",
    "\n",
    "disc = 1.96*(discount.std())/(np.sqrt(discount.shape[0]))\n",
    "undisc = 1.96*(nodiscount.std())/(np.sqrt(nodiscount.shape[0]))\n",
    "\n",
    "x = ['With Discounts', 'Without Discounts']\n",
    "y = [discount.mean(), nodiscount.mean()]\n",
    "fig = plt.figure(figsize=(10, 6))\n",
    "ax = sns.barplot(x=x, y=y)\n",
    "ax.set_ylim(0, 30)\n",
    "plt.ylabel('Mean', fontsize = 14)\n",
    "\n",
    "plt.text(s=round(y[1],2), x=1, y=10, color=\"w\", horizontalalignment='center',size=16)\n",
    "plt.text(s=round(y[0],2), x=0, y=10, color=\"w\", horizontalalignment='center',size=16)\n",
    "\n",
    "plt.title('Mean Quantity of Products Ordered', fontsize = 16)\n"
   ]
  },
  {
   "cell_type": "code",
   "execution_count": 23,
   "metadata": {},
   "outputs": [
    {
     "name": "stdout",
     "output_type": "stream",
     "text": [
      "The Control group mean is 21.715261958997722 and the standard deviation is  17.50749347239303\n",
      "The Experimental group mean is 27.10978520286396 and the standard deviation is  20.77143923484604\n"
     ]
    }
   ],
   "source": [
    "print('The Control group mean is', nodiscount.mean(), 'and the standard deviation is ',nodiscount.std())\n",
    "print('The Experimental group mean is', discount.mean(), 'and the standard deviation is ',discount.std())\n"
   ]
  },
  {
   "cell_type": "markdown",
   "metadata": {},
   "source": [
    "+ There are differences in the mean, standard deviation, and variance between the control and experimental groups.  \n",
    "+ In this experiment, we will run statistical tests to calculate whether the difference is significant, or not."
   ]
  },
  {
   "cell_type": "code",
   "execution_count": 24,
   "metadata": {},
   "outputs": [
    {
     "name": "stdout",
     "output_type": "stream",
     "text": [
      "Control Group: Skewness  = 1.9115988573935339 kurtosis = 5.771124915313807\n",
      "Experimental Group: Skewness = 1.5815727350866622 kurtosis = 3.2855655338966665\n"
     ]
    },
    {
     "data": {
      "image/png": "[encoded data removed]",
      "text/plain": [
       "<Figure size 720x576 with 1 Axes>"
      ]
     },
     "metadata": {},
     "output_type": "display_data"
    }
   ],
   "source": [
    "#Perform visual normality check for both samples' distributions and inspect the overlap using seaborn to get an idea of how different the samples might be from one another.\n",
    "sns.set(color_codes=True)\n",
    "sns.set(rc={'figure.figsize':(10,8)})\n",
    "sns.distplot(nodiscount,label='Control-No discount') # Blue control grp distribution\n",
    "plt.axvline(x=NondiscountedOrder['Quantity'].mean(), color='r', linestyle='--',label = 'Mean of NonDiscounted Orders')\n",
    "\n",
    "sns.distplot(discount, label='Experimental-With discount') # Orange exp grp distribution\n",
    "plt.axvline(x=DiscountedOrder['Quantity'].mean(), color='b', linestyle='--',label = 'Mean of Discounted Orders')\n",
    "\n",
    "plt.title('Distribution of Quantity', fontsize=16)\n",
    "plt.xlabel('Quantity', fontsize=16)\n",
    "plt.legend(fontsize = 14)\n",
    "\n",
    "#Check Skewness & Kurtosis\n",
    "print ('Control Group: Skewness  =', skew(nodiscount), 'kurtosis =', kurtosis(nodiscount))\n",
    "print ('Experimental Group: Skewness =', skew(discount), 'kurtosis =', kurtosis(discount))\n"
   ]
  },
  {
   "cell_type": "code",
   "execution_count": 25,
   "metadata": {},
   "outputs": [
    {
     "name": "stdout",
     "output_type": "stream",
     "text": [
      "p= 6.88120409395894e-26 Reject H0 Discount sample does not look Gaussian since p is < 0.05\n",
      "p= 3.803856556577728e-34 Reject H0 NoDiscount sample does not look Gaussian since p is < 0.05\n"
     ]
    }
   ],
   "source": [
    "# Shapiro-Wilk tests the null hypothesis that the data was drawn from a normal distribution.\n",
    "stat, p = shapiro(discount)\n",
    "print('p=',p,'Fail to reject H0 p > 0.05 Discount Sample looks Gaussian') if  p > 0.05 else print('p=',p, 'Reject H0 Discount sample does not look Gaussian since p is < 0.05')\n",
    "\n",
    "stat, p = shapiro(nodiscount)\n",
    "print('p=',p,'Fail to reject H0 p > 0.05 NoDiscount Sample looks Gaussian') if  p > 0.05 else print('p=',p, 'Reject H0 NoDiscount sample does not look Gaussian since p is < 0.05')\n"
   ]
  },
  {
   "cell_type": "markdown",
   "metadata": {},
   "source": [
    "The Control group is leptokurtic ( kurtosis > 3 ). The control group distribution has longer and fatter tails. The peak is higher and sharper than the peak of a normal distribution, which means that data have heavy tails and that there are more outliers.\n",
    "\n",
    "Skewness (1.9) bigger than 1 (positively skewed) means that the data are highly skewed. This means that more than half of the quantity of orders placed in the control group were less than the average quantity of 21.71 and that there are a limited number of orders placed without discount were higher than the average 21.71 leading to a long tail in the higher price ranges."
   ]
  },
  {
   "cell_type": "markdown",
   "metadata": {},
   "source": [
    "[**`stats.shapiro`**](https://docs.scipy.org/doc/scipy/reference/generated/scipy.stats.shapiro.html)\n",
    "  "
   ]
  },
  {
   "cell_type": "markdown",
   "metadata": {},
   "source": [
    "[<a href=\"#Module-3-Final-Project\">Jump back to Table of Contents</a>]  \n",
    " "
   ]
  },
  {
   "cell_type": "markdown",
   "metadata": {},
   "source": [
    "### 3e. Equal Variance check (Homoscedasticity)  \n"
   ]
  },
  {
   "cell_type": "markdown",
   "metadata": {},
   "source": [
    "The Levene test tests the null hypothesis that all input samples are from populations with equal variances. \n",
    "Levene’s test is used when there are significant deviations from normality.\n"
   ]
  },
  {
   "cell_type": "code",
   "execution_count": 26,
   "metadata": {},
   "outputs": [
    {
     "name": "stdout",
     "output_type": "stream",
     "text": [
      "Unequal Variances\n",
      "statistic = 14.832671704073421  p= 0.00012091378376079568\n",
      "Reject H0 Samples have unequal variances\n"
     ]
    }
   ],
   "source": [
    "\n",
    "print('Equal variances') if (np.var(nodiscount) == np.var(discount)) else print('Unequal Variances')\n",
    "# Levene variance test for Control and Treatment groups \n",
    "\n",
    "w , p = stats.levene(nodiscount.dropna(), discount.dropna())\n",
    "print('statistic =', w ,' p=', p)\n",
    "print('Reject H0 Samples have unequal variances') if p< .05 else print('Samples have equal variances')                             "
   ]
  },
  {
   "cell_type": "markdown",
   "metadata": {},
   "source": [
    "If this assumption is violated, try corrections like using equal sample sizes, using test that are robust to different variances and to call the ttest_ind() method by passing the argument equal_var = False. "
   ]
  },
  {
   "cell_type": "markdown",
   "metadata": {},
   "source": [
    "[**`stats.levine`**](https://docs.scipy.org/doc/scipy-0.14.0/reference/generated/scipy.stats.levene.html)\n",
    "  "
   ]
  },
  {
   "cell_type": "markdown",
   "metadata": {},
   "source": [
    "[<a href=\"#Module-3-Final-Project\">Jump back to Table of Contents</a>]  \n",
    " "
   ]
  },
  {
   "cell_type": "markdown",
   "metadata": {},
   "source": [
    "### 3f. Independent sample check (Multicollinearity)  "
   ]
  },
  {
   "cell_type": "code",
   "execution_count": 29,
   "metadata": {},
   "outputs": [],
   "source": [
    "#Let's check dependencies on the variables that we are going to work with\n",
    "q=('''SELECT DISTINCT \n",
    "    ct.Id as CategoryId, \n",
    "    o.Id as Shipper, \n",
    "    o.ShipAddress, \n",
    "    o.ShipCity, \n",
    "    o.ShipRegion, \n",
    "    o.ShipPostalCode, \n",
    "    o.ShipCountry, \n",
    "    o.CustomerID, \n",
    "    c.CompanyName, \n",
    "    c.Address, \n",
    "    c.City, \n",
    "    c.Region,\n",
    "    c.PostalCode, \n",
    "    c.Country, \n",
    "    e.Id as Salesperson, \n",
    "    o.OrderDate, \n",
    "    o.RequiredDate, \n",
    "    o.ShippedDate, \n",
    "    a.CompanyName, \n",
    "    d.ProductID, \n",
    "    p.ProductName, \n",
    "    d.Quantity, \n",
    "    d.Discount,\n",
    "    d.UnitPrice,\n",
    "    o.Freight,\n",
    "    CASE\n",
    "        WHEN Discount > 0 THEN 'Y' \n",
    "        ELSE 'N'\n",
    "    END AS WithDiscount    \n",
    "FROM Orders  o \n",
    "LEFT JOIN Shipper a  on a.Id = o.ShipVia \n",
    "LEFT JOIN Customer c on c.Id = o.CustomerID\n",
    "LEFT JOIN Employee e on e.Id = o.EmployeeID\n",
    "LEFT JOIN OrderDetail d on o.Id = d.OrderID\n",
    "LEFT JOIN Product p on p.Id = d.ProductID\n",
    "LEFT JOIN Category ct on ct.Id = p.CategoryID\n",
    "ORDER BY d.Id ;''')\n",
    "alldf = pysqldf(q)\n"
   ]
  },
  {
   "cell_type": "code",
   "execution_count": 30,
   "metadata": {},
   "outputs": [
    {
     "data": {
      "image/png": "[encoded data removed]",
      "text/plain": [
       "<Figure size 720x432 with 1 Axes>"
      ]
     },
     "metadata": {},
     "output_type": "display_data"
    },
    {
     "data": {
      "image/png": "[encoded data removed]",
      "text/plain": [
       "<Figure size 864x432 with 2 Axes>"
      ]
     },
     "metadata": {},
     "output_type": "display_data"
    }
   ],
   "source": [
    "# Plot a scatter graph to visually inspect the relationship between variables\n",
    "plt.figure(figsize = (10,6))\n",
    "sns.scatterplot('Discount', 'Quantity', hue='WithDiscount', data=alldf)\n",
    "plt.xlabel('Discount Amount', fontsize =16)\n",
    "plt.ylabel('Quantity', fontsize =16)\n",
    "plt.title('Relationship Between Order Quantity & Discount Amount',fontsize = 14)\n",
    "\n",
    "\n",
    "plt.figure(figsize=(12,6))\n",
    "\n",
    "# Compute the correlation matrix to determine the the strength of association between Quantity & Discount\n",
    "\n",
    "sns.heatmap(alldf.corr(), cmap = 'RdBu_r', annot = True, annot_kws={'size': 14},\n",
    "          cbar=True,  cbar_kws = {'label' : 'correlation'});\n",
    "plt.title('Correlation between Features', fontdict={'fontsize': 16})\n",
    "\n",
    "plt.xticks(rotation = 45,fontsize =16)\n",
    "plt.yticks(rotation = 0, fontsize =16)\n",
    "\n",
    "plt.show()"
   ]
  },
  {
   "cell_type": "code",
   "execution_count": 31,
   "metadata": {},
   "outputs": [
    {
     "data": {
      "text/plain": [
       "Quantity       1.000000\n",
       "Freight        0.370832\n",
       "Discount       0.127576\n",
       "ProductId      0.011932\n",
       "UnitPrice      0.007366\n",
       "Salesperson    0.005471\n",
       "CategoryId    -0.014338\n",
       "Shipper       -0.016260\n",
       "Name: Quantity, dtype: float64"
      ]
     },
     "execution_count": 31,
     "metadata": {},
     "output_type": "execute_result"
    }
   ],
   "source": [
    "#alldf.corr(method ='pearson') \n",
    "alldf.corr()['Quantity'].sort_values(ascending=False)"
   ]
  },
  {
   "cell_type": "markdown",
   "metadata": {},
   "source": [
    "+ It's clear that there is no linear relationship between Quantity and Discount.  You can also see from the above heatmap that there is no multicollinearity between quantity, discount and other variables that we are interested in our discount exploration and testing.  \n",
    "+ Independent samples are measurements made on two different sets of items. If the values in one sample reveal no information about those of the other sample, then the samples are independent. Give one group of order a discount and give another group of order no discounts, then compare the average quantity of items ordered between the group. These two samples would likely be independent because the measurements are from different groups. Knowing something about the distribution of values in the first sample doesn't inform you about the distribution of values in the second.\n",
    "+ We determined the correlation to measure the relationship between Quantity & Discount variables.  When two things are correlated, it means that they vary together.  In our case, Quantity & Discount has a correlation coefficient of 0.13 which, indicates very weak relationship.  \n",
    "+ The two samples are independent."
   ]
  },
  {
   "cell_type": "markdown",
   "metadata": {},
   "source": [
    "[<a href=\"#Module-3-Final-Project\">Jump back to Table of Contents</a>]  \n",
    " "
   ]
  },
  {
   "cell_type": "markdown",
   "metadata": {},
   "source": [
    "## 4. Run the Statistical Test  \n"
   ]
  },
  {
   "cell_type": "markdown",
   "metadata": {},
   "source": [
    "### 4a. Statistical Hypothesis Process\n"
   ]
  },
  {
   "cell_type": "markdown",
   "metadata": {},
   "source": [
    "### Does discount amount have a statistically significant effect on the quantity of a product in an order?"
   ]
  },
  {
   "cell_type": "markdown",
   "metadata": {},
   "source": [
    "Steps to our Hypothesis Testing:\n",
    "1.  State the **NULL and Alternative Hypotheses** \n",
    "   - NULL: **$H_0$ :𝜇1=𝜇2**  \n",
    "\"The quantity of product in an order that have discounts (experimental group)  will have the same average as the quantity of product in an order that do not have discounts (control group).\"\n",
    "\n",
    "   - ALTERNATIVE: **$H_A$  :𝜇1≠𝜇2**  \n",
    "\"The quantity of product in an order with discounts will **not** have the same average as the quantity of product in an order that do not have discounts (control group). They will be higher or lower.\n",
    "\n",
    "\n",
    "\n",
    "2.  In this experiment we are setting the **Alpha Level ( 𝛼 ) to 0.05 or 5% significance level**. Alpha sets the standard for how extreme the data must be before we can reject the null hypothesis. Alpha is a threshold value used to judge whether a test statistic is statistically significant.  \n",
    "  \n",
    "3.  Identify the **test statistic** to be used to assess the truth of the null hypothesis. \n",
    "  \n",
    "4.  **Compute the p-value.**  The smaller the P-value, the stronger the evidence against the null hypothesis. If the probability level is less than our chosen alpha level, we will reject the null hypothesis of equal means and conclude that the means are different.  \n",
    "  \n",
    "5.  **Compare the p-value to the significance value alpha.** If p<=alpha, that the observed effect is statistically significant, the null hypothesis is ruled out, and the alternative hypothesis is valid. The confidence limits of the difference allows us to put bounds on the size of the difference. If these limits are narrow and close to zero, we might determine that even though our results are statistically significant, the magnitude of their difference is not of practical interest.\n",
    "\n",
    "\n",
    "  "
   ]
  },
  {
   "cell_type": "markdown",
   "metadata": {},
   "source": [
    "To prepare for the results of our hypothesis testing, we can contruct the following contingency table.  \n",
    "<img src='./ErrorType.png' height=\"70%\" width=\"70%\">"
   ]
  },
  {
   "cell_type": "markdown",
   "metadata": {},
   "source": [
    "The Independent Samples t Test compares the means of two independent groups in order to determine whether there is statistical evidence that the associated population means are significantly different. The Independent Samples t Test is a parametric test.  \n",
    "\n",
    "The assumptions of the Independent two-sample t-test are:\n",
    "1. The data are continuous (not discrete). We are checking for means of quantity i.e. continuous data.\n",
    "2. The data follow the normal probability distribution.\n",
    "3. The variances of the two populations are equal. (If not, the Welch Unequal-Variance T test is used.)\n",
    "4. The two samples are independent. There is no relationship between the individuals in one sample as compared to the other and cannot influence the other group.\n",
    "5. Both samples are simple random samples from their respective populations. Each individual in the population has an equal probability of being selected in the sample. (create sample distributions)\n",
    "6. No outliers\n",
    "\n",
    "+ Each group should have at least 6 subjects, ideally more. \n",
    "+ Roughly balanced design (i.e., same number of subjects in each group) are ideal. Extremely unbalanced designs increase the possibility that violating any of the requirements/assumptions will threaten the validity of the Independent Samples t Test.\n",
    "+ When one or more of the assumptions for the Independent Samples t Test are not met, we may want to run the nonparametric Mann-Whitney U Test instead.\n",
    "\n",
    "Let's run our sampling distribution before we run our statistical tests to see if our discount and nodiscount sample means meet the assumptions."
   ]
  },
  {
   "cell_type": "markdown",
   "metadata": {},
   "source": [
    "### 4b. Create a Sample Distribution of Sample Means (with replacement)  \n"
   ]
  },
  {
   "cell_type": "markdown",
   "metadata": {},
   "source": [
    "A simple random sample is chosen in such a way that every set of individuals has an equal chance to be in the selected sample. The distribution of our sample violates assumption of normality and variance and our discount distribution has many modes. Repeated random sample of our quantitative variables will be taken below to help with our hypothesis testing. Sampling distributions are important for making inferences about the overall population."
   ]
  },
  {
   "cell_type": "code",
   "execution_count": 32,
   "metadata": {},
   "outputs": [],
   "source": [
    "#create a Sample Distribution of Sample Means (with replacement)\n",
    "def get_sample(data, n):\n",
    "    sample = []\n",
    "    while len(sample) != n:\n",
    "        x = np.random.choice(data)\n",
    "        sample.append(x)\n",
    "    \n",
    "    return sample\n",
    "\n",
    "#helper function that takes in a sample and returns the mean of that sample.\n",
    "def get_sample_mean(sample):\n",
    "    return sum(sample) / len(sample)\n",
    "\n",
    "\n",
    "# create a function that returns the sample dist of sample means given the dataset, the size of the distribution to create, and the size of each individual sample.\n",
    "def create_sample_distribution(data, dist_size=800, n=600):\n",
    "    sample_dist = []\n",
    "    while len(sample_dist) != dist_size:\n",
    "        sample = get_sample(data, n)\n",
    "        sample_mean = get_sample_mean(sample)\n",
    "        sample_dist.append(sample_mean)\n",
    "    \n",
    "    return sample_dist\n"
   ]
  },
  {
   "cell_type": "code",
   "execution_count": 33,
   "metadata": {},
   "outputs": [],
   "source": [
    "# create sample distributions of sample mean for control and experimental\n",
    "nodiscount_sample = create_sample_distribution(nodiscount)\n",
    "discount_sample = create_sample_distribution(discount)\n"
   ]
  },
  {
   "cell_type": "markdown",
   "metadata": {},
   "source": [
    "[<a href=\"#Module-3-Final-Project\">Jump back to Table of Contents</a>]  \n",
    " "
   ]
  },
  {
   "cell_type": "markdown",
   "metadata": {},
   "source": [
    "### 4c. Run the hypothesis test  "
   ]
  },
  {
   "cell_type": "code",
   "execution_count": 34,
   "metadata": {},
   "outputs": [
    {
     "name": "stdout",
     "output_type": "stream",
     "text": [
      "Control Group: Skewness  = 0.11375593020354652 kurtosis = -0.13633304036057936\n",
      "Experimental Group: Skewness = 0.023265125107599104 kurtosis = 0.043217533384667384\n",
      "\n",
      "\n",
      "The Control group (No discount) mean is : 21.695568750000003 and the standard deviation is: 0.732499378646755\n",
      "The Experimental group (with discount) mean is : 27.076077083333335 and the standard deviation is: 0.83186397728057\n",
      "\n",
      "\n",
      "The difference in mean is  5.3805083333333314\n",
      "The variance for experimental is 0.6919976766970487  and for the control group is  0.536555339717882\n"
     ]
    },
    {
     "data": {
      "image/png": "[encoded data removed]",
      "text/plain": [
       "<Figure size 720x288 with 1 Axes>"
      ]
     },
     "metadata": {},
     "output_type": "display_data"
    }
   ],
   "source": [
    "plt.figure(figsize = (10, 4))\n",
    "sns.distplot(nodiscount_sample, label='Control')\n",
    "sns.distplot(discount_sample, label='Experimental')\n",
    "plt.title('Sampling distributions of sample mean', fontsize=16)\n",
    "plt.xlabel('Quantity of Product Ordered', fontsize=16)\n",
    "plt.legend(frameon=False, fontsize=16, loc='best')\n",
    "\n",
    "#Check Skewness & Kurtosis\n",
    "print ('Control Group: Skewness  =', skew(nodiscount_sample), 'kurtosis =', kurtosis(nodiscount_sample))\n",
    "print ('Experimental Group: Skewness =', skew(discount_sample), 'kurtosis =', kurtosis(discount_sample))\n",
    "print('\\n')\n",
    "print('The Control group (No discount) mean is :', np.array(nodiscount_sample).mean() , 'and the standard deviation is:',np.array(nodiscount_sample).std())\n",
    "print('The Experimental group (with discount) mean is :', np.array(discount_sample).mean() , 'and the standard deviation is:',np.array(discount_sample).std())\n",
    "print('\\n')\n",
    "print('The difference in mean is ', np.array(discount_sample).mean() - np.array(nodiscount_sample).mean())\n",
    "print('The variance for experimental is', np.array(discount_sample).var(),' and for the control group is ' ,np.array(nodiscount_sample).var())\n"
   ]
  },
  {
   "cell_type": "code",
   "execution_count": 35,
   "metadata": {},
   "outputs": [
    {
     "name": "stdout",
     "output_type": "stream",
     "text": [
      "NormaltestResult(statistic=2.274968646292037, pvalue=0.32062459598424603)\n",
      "Fail to reject H0 p > 0.05 Discount Sample looks Gaussian\n",
      "\n",
      "\n",
      "NormaltestResult(statistic=0.21371670041980134, pvalue=0.8986529579780166)\n",
      "Fail to reject H0 p > 0.05 Discount Sample looks Gaussian\n"
     ]
    }
   ],
   "source": [
    "#Check for normality of the sample distribution\n",
    "s,p = stats.normaltest(nodiscount_sample)\n",
    "print( stats.normaltest(nodiscount_sample))\n",
    "print('Fail to reject H0 p > 0.05 Discount Sample looks Gaussian') if  p > 0.05 else print('Reject H0 Discount sample does not look Gaussian since p is < 0.05')\n",
    "print('\\n')\n",
    "s,p = stats.normaltest(discount_sample)\n",
    "print( stats.normaltest(discount_sample))\n",
    "print('Fail to reject H0 p > 0.05 Discount Sample looks Gaussian') if  p > 0.05 else print('Reject H0 Discount sample does not look Gaussian since p is < 0.05')\n"
   ]
  },
  {
   "cell_type": "markdown",
   "metadata": {},
   "source": [
    "The sample mean distributions are normal. The difference between the means, standard deviation and variance of the control and experimental groups are apparent.  How confident are we that this measured difference is real? Now we are ready to perform the two sample t-test to evaluate this."
   ]
  },
  {
   "cell_type": "markdown",
   "metadata": {},
   "source": [
    "### Welch's unequal variance t-test"
   ]
  },
  {
   "cell_type": "markdown",
   "metadata": {},
   "source": [
    "The unequal variance above renders one assumption is not met. Hence, if the samples have unequal variance, set equal_var to False then perform Welch’s t-test, which is a robust test in the face of assumption violation.  \n",
    "\n",
    "\"Welch's unequal variances t-test\" — or \"unequal variances t-test\" are also known as \"unpaired\" or \"independent samples\" t-tests, as they are typically applied when the statistical units underlying the two samples being compared are non-overlapping. "
   ]
  },
  {
   "cell_type": "code",
   "execution_count": 39,
   "metadata": {},
   "outputs": [
    {
     "name": "stdout",
     "output_type": "stream",
     "text": [
      "t_stat = 137.2144176408499 and the p-value = 0.0\n",
      "Reject Null Hypothesis since p is < 0.05\n"
     ]
    }
   ],
   "source": [
    "#Calculate the T-test for the means of two independent samples of unequal variance using Welch's t-test.  \n",
    "t_stat, p = stats.ttest_ind(discount_sample, nodiscount_sample, equal_var=False)\n",
    "print('t_stat =', t_stat,'and the p-value =', p ) \n",
    "\n",
    "#Obtain the right-tailed value by dividing the two-tailed value .05 by two for the two-tailed test. \n",
    "print('Reject Null Hypothesis since p is < 0.05') if p <= 0.05 else print('Failed to reject Null Hypothesis since p > 0.05')\n"
   ]
  },
  {
   "cell_type": "markdown",
   "metadata": {},
   "source": [
    "[**`stats.ttest_ind`**](https://docs.scipy.org/doc/scipy/reference/generated/scipy.stats.ttest_ind.html)"
   ]
  },
  {
   "cell_type": "markdown",
   "metadata": {},
   "source": [
    "### Decision and Conclusion"
   ]
  },
  {
   "cell_type": "code",
   "execution_count": 40,
   "metadata": {},
   "outputs": [
    {
     "name": "stdout",
     "output_type": "stream",
     "text": [
      "Interpretation of the p-value for the Independent T-Test 2 Tailed at Significance level = 0.05 \n",
      "------------------------------------------------------------------------------------------------------\n",
      "The t-value is  137.2144176408499  The p-value is 0.0 .There was a significant difference in average quantity between discounted and non-discounted orders at p<0.5 (2-tailed)\n",
      "------------------------------------------------------------------------------------------------------\n",
      "The  800 experimental sample that received discounts  (Mean = 27.08 Std =  0.83 ) compared to the  \n",
      " 800  control sample that received no discounts  (Mean = 21.7 Std =  0.73 ) \n",
      " demonstrated higher mean quantity of product ordered  at pvalue = 0.0\n"
     ]
    }
   ],
   "source": [
    "print('''Interpretation of the p-value for the Independent T-Test 2 Tailed at Significance level = 0.05 ''')\n",
    "print('------------------------------------------------------------------------------------------------------')\n",
    "print('The t-value is ',  t_stat, ' The p-value is' , p, '.There was a significant difference in average quantity between discounted and non-discounted orders at p<0.5 (2-tailed)') \n",
    "print('------------------------------------------------------------------------------------------------------')\n",
    "print('The ',  len(discount_sample), 'experimental sample that received discounts ',\n",
    "      '(Mean =', np.array(discount_sample).mean().round(2), 'Std = ', np.array(discount_sample).std().round(2),')',\n",
    "      'compared to the ','\\n', len(nodiscount_sample) ,' control sample that received no discounts ',\n",
    "      '(Mean =', np.array(nodiscount_sample).mean().round(2), 'Std = ', np.array(nodiscount_sample).std().round(2),')',\n",
    "      '\\n','demonstrated higher mean quantity of product ordered ',  'at pvalue =',  p )\n"
   ]
  },
  {
   "cell_type": "markdown",
   "metadata": {},
   "source": [
    "[<a href=\"#Module-3-Final-Project\">Jump back to Table of Contents</a>]  \n",
    " "
   ]
  },
  {
   "cell_type": "markdown",
   "metadata": {},
   "source": [
    "### 4d. Effect Size  \n"
   ]
  },
  {
   "cell_type": "markdown",
   "metadata": {},
   "source": [
    "We need to describe the results in terms of measures of magnitude – not just, does the discount affect quantity of product ordered, but how much does it affect them.  Effect size is a quantitative measure of the magnitude of the discount(experimenter) effect. The larger the effect size the stronger the relationship between two variables.\n"
   ]
  },
  {
   "cell_type": "code",
   "execution_count": 41,
   "metadata": {},
   "outputs": [],
   "source": [
    "#Compute Cohen's d \n",
    "def Cohen_d(group1, group2):\n",
    "\n",
    "    diff = group1.mean() - group2.mean()\n",
    "\n",
    "    n1, n2 = len(group1), len(group2)\n",
    "    var1 = group1.var()\n",
    "    var2 = group2.var()\n",
    "\n",
    "    # Calculate the pooled threshold as shown earlier\n",
    "    pooled_var = (n1 * var1 + n2 * var2) / (n1 + n2)\n",
    "    \n",
    "    # Calculate Cohen's d statistic\n",
    "    d = diff / np.sqrt(pooled_var)\n",
    "    \n",
    "    return d\n"
   ]
  },
  {
   "cell_type": "code",
   "execution_count": 42,
   "metadata": {},
   "outputs": [],
   "source": [
    "d = Cohen_d(np.array(discount_sample), np.array(nodiscount_sample))"
   ]
  },
  {
   "cell_type": "code",
   "execution_count": 43,
   "metadata": {},
   "outputs": [
    {
     "name": "stdout",
     "output_type": "stream",
     "text": [
      "6.86501285673945\n",
      "Effect size is Large\n"
     ]
    }
   ],
   "source": [
    "print(d)\n",
    "print( 'Effect size is Small') if d <= 0.2 else print('Effect size is Large') if d >= 0.8 else print('Effect size is Medium')"
   ]
  },
  {
   "cell_type": "markdown",
   "metadata": {},
   "source": [
    "As per Cohen, d=0.2 is considered a 'small' effect size, 0.5 represents a 'medium' effect size and 0.8 a 'large' effect size. This means that if two groups' means don't differ by 0.2 standard deviations or more, the difference is trivial, even if it is statistically significant.  \n",
    "This implementation uses the \"pooled standard deviation,\" which is a weighted average of the standard deviations of the two groups.  \n",
    "\n",
    "Our Cohen_d value  is 6.9 which is > .8, thus represents a large effect size. Effect size quantifies the size of the difference between our control and experimental groups and may therefore be said to be a true measure of the significance of the difference.  \n",
    " \n",
    "Let's Calculate the power of the statistical t test to determine the probability of rejecting the null hypothesis, given that it is indeed false. "
   ]
  },
  {
   "cell_type": "code",
   "execution_count": 44,
   "metadata": {},
   "outputs": [
    {
     "data": {
      "text/plain": [
       "1.0"
      ]
     },
     "execution_count": 44,
     "metadata": {},
     "output_type": "execute_result"
    }
   ],
   "source": [
    "\n",
    "power = TTestIndPower()\n",
    "#Calculate power\n",
    "power.solve_power(effect_size=6, nobs1=25, alpha=.05)\n"
   ]
  },
  {
   "cell_type": "code",
   "execution_count": 45,
   "metadata": {},
   "outputs": [
    {
     "data": {
      "text/plain": [
       "50.0"
      ]
     },
     "execution_count": 45,
     "metadata": {},
     "output_type": "execute_result"
    }
   ],
   "source": [
    "# Calculate sample size required to achieve a power of 1\n",
    "power.solve_power(effect_size=6, alpha=.05, power=1)"
   ]
  },
  {
   "cell_type": "code",
   "execution_count": 46,
   "metadata": {},
   "outputs": [
    {
     "data": {
      "text/plain": [
       "0.8087077886680412"
      ]
     },
     "execution_count": 46,
     "metadata": {},
     "output_type": "execute_result"
    }
   ],
   "source": [
    "# Calculate minimum effect size to satisfy desired alpha and power as well as respect sample size limitations\n",
    "power.solve_power(nobs1=25, alpha=.05, power=.8)"
   ]
  },
  {
   "cell_type": "markdown",
   "metadata": {},
   "source": [
    "This output indicates that the power of the statistical test is 1, thus, a perfect test that guarantees rejecting the null hypothesis when it is indeed false.\n",
    "These results indicate that using 800 transactions in each group and with given statistics, the statistical power of the experiment is 1. This can be interpreted as follows:\n",
    "\n",
    "*If a large effect (6.9 or greater) is truly present between control and experimental groups, then the null hypothesis (i.e. no difference with alpha 0.05) would be rejected 100% of the time. *\n",
    "Power is the probability that the test correctly rejects the Null Hypothesis if the Alternative Hypothesis is true."
   ]
  },
  {
   "cell_type": "markdown",
   "metadata": {},
   "source": [
    "[<a href=\"#Module-3-Final-Project\">Jump back to Table of Contents</a>]  \n",
    " "
   ]
  },
  {
   "cell_type": "markdown",
   "metadata": {},
   "source": [
    "### 4e. Is there a difference in the mean quantity between discount levels?  "
   ]
  },
  {
   "cell_type": "markdown",
   "metadata": {},
   "source": [
    "#### ANOVA Test for Quantity Discount Level Significance  "
   ]
  },
  {
   "cell_type": "markdown",
   "metadata": {},
   "source": [
    "We rejected the NULL hypothesis and have evidence that there are significant differences in the mean quantity of product between our control and experimental groups, so the next step, is to measure which level of discount is significant.  \n",
    "We've seen that there are 10 distinct discount amounts namely 0.05,0.10,0.20, 0.15,0.25,0.03, 0.02, 0.01,0.04, and 0.06.  \n",
    "We will utilize the one-way ANOVA as the statistical test since we will be comparing means for three or more populations and will be testing only one factor i.e. to see whether the variations in the quantity or product ordered are due to the discount levels or whether the variations are purely random. \n",
    "\n",
    "To use one-way ANOVA, the following conditions must be present: \n",
    "  +  The populations of interest must be normally distributed. \n",
    "  +  The samples must be independent of each other.\n",
    "  +  Each population must have the same variance.\n",
    " \n",
    "We know from our previous testing that our sample has unequal variances and that the distributions are not perfectly normal. ANOVA is robust to the homogeneity of variance violation and to data that are not normally distributed.  Due to our sufficiently large random sample we will proceed with the test as we are assuming that the distribution of means calculated from repeated sampling will approach normality. We can consider normality as a given for us due to the central limit theorem for large samples. \n",
    "\n",
    "The Hypothesis of interest for our one-way anova test is as follows:\n",
    "- $H_0$: μ1 = μ2 = μ3 = μ4 = μ5: There is no difference in means of quantity of product between the experimental(with discounts) and the control group for each of the discount levels.\n",
    "- $H_A$: μ1 ≠ μ2 ≠ μ3 ≠ μ4 ≠ μ5:  The means of quantity of product ordered are not all equal between discount levels. It can be higher or lower.\n",
    "\n",
    "Alpha is set at 0.05\n",
    "\n"
   ]
  },
  {
   "cell_type": "code",
   "execution_count": 47,
   "metadata": {},
   "outputs": [
    {
     "data": {
      "text/html": [
       "<div>\n",
       "<style scoped>\n",
       "    .dataframe tbody tr th:only-of-type {\n",
       "        vertical-align: middle;\n",
       "    }\n",
       "\n",
       "    .dataframe tbody tr th {\n",
       "        vertical-align: top;\n",
       "    }\n",
       "\n",
       "    .dataframe thead th {\n",
       "        text-align: right;\n",
       "    }\n",
       "</style>\n",
       "<table border=\"1\" class=\"dataframe\">\n",
       "  <thead>\n",
       "    <tr style=\"text-align: right;\">\n",
       "      <th></th>\n",
       "      <th>sum_sq</th>\n",
       "      <th>df</th>\n",
       "      <th>F</th>\n",
       "      <th>PR(&gt;F)</th>\n",
       "    </tr>\n",
       "  </thead>\n",
       "  <tbody>\n",
       "    <tr>\n",
       "      <th>C(Discount)</th>\n",
       "      <td>15969.214452</td>\n",
       "      <td>5.0</td>\n",
       "      <td>8.990431</td>\n",
       "      <td>1.816734e-08</td>\n",
       "    </tr>\n",
       "    <tr>\n",
       "      <th>Residual</th>\n",
       "      <td>763430.421743</td>\n",
       "      <td>2149.0</td>\n",
       "      <td>NaN</td>\n",
       "      <td>NaN</td>\n",
       "    </tr>\n",
       "  </tbody>\n",
       "</table>\n",
       "</div>"
      ],
      "text/plain": [
       "                    sum_sq      df         F        PR(>F)\n",
       "C(Discount)   15969.214452     5.0  8.990431  1.816734e-08\n",
       "Residual     763430.421743  2149.0       NaN           NaN"
      ]
     },
     "execution_count": 47,
     "metadata": {},
     "output_type": "execute_result"
    }
   ],
   "source": [
    "#Run the ANOVA test\n",
    "# wrap with C() to indicate categorical variable We indicate categorical variables by wrapping them with C()*\n",
    "formula = 'Quantity ~ C(Discount)'\n",
    "lm = ols(formula, OrderDetail).fit()\n",
    "table = sm.stats.anova_lm(lm, typ=2) # Type 2 ANOVA DataFrame\n",
    "table"
   ]
  },
  {
   "cell_type": "markdown",
   "metadata": {},
   "source": [
    "[**`stats.anova_lm`**](https://www.statsmodels.org/devel/generated/statsmodels.stats.anova.anova_lm.html)  \n"
   ]
  },
  {
   "cell_type": "markdown",
   "metadata": {},
   "source": [
    "### Conclusion "
   ]
  },
  {
   "cell_type": "code",
   "execution_count": 48,
   "metadata": {},
   "outputs": [
    {
     "name": "stdout",
     "output_type": "stream",
     "text": [
      "F_stat = 8.99 and the p-value = 0.0\n",
      "Reject Null Hypothesis since p is < 0.05. The difference between discount amount is statistically significant.\n"
     ]
    }
   ],
   "source": [
    "print('F_stat =', table['F'][0].round(3),'and the p-value =', table['PR(>F)'][0].round(3)) \n",
    "print('Reject Null Hypothesis since p is < 0.05. The difference between discount amount is statistically significant.') if table['PR(>F)'][0].round(3) < 0.05 else print('Failed to reject Null Hypothesis since p > 0.05')\n"
   ]
  },
  {
   "cell_type": "markdown",
   "metadata": {},
   "source": [
    "pvalue is < .05, indicating that there is enough evidence to support the claim that there is a difference in the average quantity in an order between discount level means (rejection of the null hypothesis).  \n",
    "\n",
    "Please note that the ANOVA alone does not tell us specifically which means were different from one another. To determine that, we would need to follow up with multiple comparisons (or post-hoc) tests.  \n",
    "\n",
    "Since we only have a discount levels to compare, let's run the same test for each of the discount levels to find out exactly where the differences are.  \n"
   ]
  },
  {
   "cell_type": "code",
   "execution_count": 49,
   "metadata": {},
   "outputs": [
    {
     "data": {
      "text/html": [
       "<div>\n",
       "<style scoped>\n",
       "    .dataframe tbody tr th:only-of-type {\n",
       "        vertical-align: middle;\n",
       "    }\n",
       "\n",
       "    .dataframe tbody tr th {\n",
       "        vertical-align: top;\n",
       "    }\n",
       "\n",
       "    .dataframe thead th {\n",
       "        text-align: right;\n",
       "    }\n",
       "</style>\n",
       "<table border=\"1\" class=\"dataframe\">\n",
       "  <thead>\n",
       "    <tr style=\"text-align: right;\">\n",
       "      <th></th>\n",
       "      <th>Discount %</th>\n",
       "      <th>F-test</th>\n",
       "      <th>Null Hypothesis</th>\n",
       "      <th>&lt; p</th>\n",
       "      <th>pvalue</th>\n",
       "      <th>Cohens d</th>\n",
       "      <th>effect size</th>\n",
       "    </tr>\n",
       "  </thead>\n",
       "  <tbody>\n",
       "    <tr>\n",
       "      <th>0</th>\n",
       "      <td>5.0%</td>\n",
       "      <td>3.712927</td>\n",
       "      <td>Reject</td>\n",
       "      <td>True</td>\n",
       "      <td>0.000212</td>\n",
       "      <td>0.286135</td>\n",
       "      <td>Medium</td>\n",
       "    </tr>\n",
       "    <tr>\n",
       "      <th>1</th>\n",
       "      <td>10.0%</td>\n",
       "      <td>2.423259</td>\n",
       "      <td>Reject</td>\n",
       "      <td>True</td>\n",
       "      <td>0.015501</td>\n",
       "      <td>0.195942</td>\n",
       "      <td>Small</td>\n",
       "    </tr>\n",
       "    <tr>\n",
       "      <th>2</th>\n",
       "      <td>20.0%</td>\n",
       "      <td>3.601949</td>\n",
       "      <td>Reject</td>\n",
       "      <td>True</td>\n",
       "      <td>0.000326</td>\n",
       "      <td>0.300712</td>\n",
       "      <td>Medium</td>\n",
       "    </tr>\n",
       "    <tr>\n",
       "      <th>3</th>\n",
       "      <td>15.0%</td>\n",
       "      <td>4.411193</td>\n",
       "      <td>Reject</td>\n",
       "      <td>True</td>\n",
       "      <td>0.000011</td>\n",
       "      <td>0.372404</td>\n",
       "      <td>Medium</td>\n",
       "    </tr>\n",
       "    <tr>\n",
       "      <th>4</th>\n",
       "      <td>25.0%</td>\n",
       "      <td>4.304937</td>\n",
       "      <td>Reject</td>\n",
       "      <td>True</td>\n",
       "      <td>0.000018</td>\n",
       "      <td>0.366593</td>\n",
       "      <td>Medium</td>\n",
       "    </tr>\n",
       "  </tbody>\n",
       "</table>\n",
       "</div>"
      ],
      "text/plain": [
       "  Discount %    F-test Null Hypothesis   < p    pvalue  Cohens d effect size\n",
       "0       5.0%  3.712927          Reject  True  0.000212  0.286135      Medium\n",
       "1      10.0%  2.423259          Reject  True  0.015501  0.195942       Small\n",
       "2      20.0%  3.601949          Reject  True  0.000326  0.300712      Medium\n",
       "3      15.0%  4.411193          Reject  True  0.000011  0.372404      Medium\n",
       "4      25.0%  4.304937          Reject  True  0.000018  0.366593      Medium"
      ]
     },
     "execution_count": 49,
     "metadata": {},
     "output_type": "execute_result"
    }
   ],
   "source": [
    "#Create a dataframe to save the discount amount individual test statistics, p value, decision, Cohen's d, and effect size \n",
    "discount_levels = pd.DataFrame(columns=['Discount %','F-test','Null Hypothesis','< p','pvalue','Cohens d'], index=None)\n",
    "\n",
    "discounts = [0.05, 0.10,  0.20, 0.15, 0.25] #we have excluded discount levels with value counts < than 100\n",
    "control = OrderDetail[OrderDetail['Discount']==0]['Quantity']\n",
    "for i in discounts:\n",
    "    experimental = OrderDetail[OrderDetail['Discount']==i]['Quantity']\n",
    "    st, p = stats.ttest_ind(experimental,control)\n",
    "    d = Cohen_d(experimental, control)\n",
    "    discount_levels = discount_levels.append( { 'Discount %' : str(i*100)+'%' ,'F-test' : st, 'Null Hypothesis' : 'Reject' if p <= 0.05 else 'Failed','< p' : p <= 0.05 ,'pvalue': p, 'Cohens d' : d ,'effect size' : 'Small' if d <= 0.2 else 'Large' if d >= 0.8 else 'Medium'}  , ignore_index=True)    \n",
    "\n",
    "discount_levels\n"
   ]
  },
  {
   "cell_type": "markdown",
   "metadata": {},
   "source": [
    "### Conclusion"
   ]
  },
  {
   "cell_type": "markdown",
   "metadata": {},
   "source": [
    "Based on the table above, 5%, 15%, 20% and 25% have lesser p values and greater effect size than the 10% discount.  For 10% discount, the difference is small, even if it is statistically significant. To verify the individual t-test results above, let's run the Tukey's Multicomparison test to tell us exactly which pairs of discount levels between the experimental and control group have different means. Tukey's Method is a post hoc test to find where the differences occurred between groups and they should only be run when we have shown an overall statistically significant difference in group means (i.e., a statistically significant one-way ANOVA result).\n"
   ]
  },
  {
   "cell_type": "code",
   "execution_count": 50,
   "metadata": {},
   "outputs": [
    {
     "name": "stdout",
     "output_type": "stream",
     "text": [
      "Multiple Comparison of Means - Tukey HSD, FWER=0.05 \n",
      "====================================================\n",
      "group1 group2 meandiff p-adj   lower   upper  reject\n",
      "----------------------------------------------------\n",
      "   0.0   0.05    5.207 0.0047  1.0635  9.3506   True\n",
      "   0.0    0.1   3.5217   0.19 -0.8257  7.8692  False\n",
      "   0.0   0.15   6.6669  0.001  2.1279 11.2059   True\n",
      "   0.0    0.2   5.3096 0.0098  0.8212  9.7979   True\n",
      "   0.0   0.25    6.525  0.001  1.9467 11.1033   True\n",
      "  0.05    0.1  -1.6853    0.9 -7.3138  3.9432  False\n",
      "  0.05   0.15   1.4599    0.9 -4.3179  7.2377  False\n",
      "  0.05    0.2   0.1026    0.9 -5.6355  5.8406  False\n",
      "  0.05   0.25    1.318    0.9 -4.4907  7.1267  False\n",
      "   0.1   0.15   3.1452 0.6347 -2.7805  9.0709  False\n",
      "   0.1    0.2   1.7879    0.9 -4.0991  7.6748  False\n",
      "   0.1   0.25   3.0033 0.6783 -2.9526  8.9591  False\n",
      "  0.15    0.2  -1.3573    0.9 -7.3872  4.6725  False\n",
      "  0.15   0.25  -0.1419    0.9  -6.239  5.9552  False\n",
      "   0.2   0.25   1.2154    0.9 -4.8441  7.2749  False\n",
      "----------------------------------------------------\n"
     ]
    }
   ],
   "source": [
    "# Set up the data for comparison \n",
    "MultiComp = MultiComparison(OrderDetail['Quantity'], OrderDetail['Discount'])\n",
    "# Show all pair-wise comparisons:\n",
    "# Print the comparisons\n",
    "print(MultiComp.tukeyhsd().summary())\n"
   ]
  },
  {
   "cell_type": "markdown",
   "metadata": {},
   "source": [
    "[**`stats.multicomp.pairwise_tukey`**](https://www.statsmodels.org/stable/generated/statsmodels.stats.multicomp.pairwise_tukeyhsd.html)"
   ]
  },
  {
   "cell_type": "code",
   "execution_count": 51,
   "metadata": {},
   "outputs": [
    {
     "data": {
      "image/png": "[encoded data removed]",
      "text/plain": [
       "<Figure size 864x288 with 1 Axes>"
      ]
     },
     "metadata": {},
     "output_type": "display_data"
    }
   ],
   "source": [
    "plt.figure(figsize=(12,4))\n",
    "disclevel = OrderDetail['Quantity'].groupby(OrderDetail['Discount']).mean()\n",
    "disclevel.plot(kind='bar', color='purple')\n",
    "plt.title('Mean Quantity by Discount Level',fontsize =16)\n",
    "    \n",
    "plt.xticks(rotation = 0,fontsize =16)\n",
    "plt.yticks(fontsize =16)\n",
    "ax.set_ylim(0, 30)\n",
    "plt.ylabel('Mean', fontsize = 14)\n",
    "\n",
    "plt.xlabel('Discount amount',fontsize =16)\n",
    "plt.ylabel('Mean Quantity', fontsize =16)\n",
    "\n",
    "plt.show()\n"
   ]
  },
  {
   "cell_type": "markdown",
   "metadata": {},
   "source": [
    "### Conclusion\n"
   ]
  },
  {
   "cell_type": "markdown",
   "metadata": {},
   "source": [
    "We are getting consistent results between individual T test and Tukey test.  Remember the null hypothesis states that there are no differences between the means between discount amounts. Looking at the comparison results, we reject the null hypothesis at the 5%, 15%, 20% and 25% discount levels when compared with the control group. In other words, when discounts of 5, 15, 20 and 25% are applied, we observe a statistically significant effect on the quantity of product ordered but not at 10%."
   ]
  },
  {
   "cell_type": "markdown",
   "metadata": {},
   "source": [
    "[<a href=\"#Module-3-Final-Project\">Jump back to Table of Contents</a>]  \n",
    " "
   ]
  },
  {
   "cell_type": "markdown",
   "metadata": {},
   "source": [
    "### 4f. Is there a difference in the mean quantity of order between product categories?  \n",
    "\n",
    "- $H_0$: μ1 = μ2 = μ3 .. μn:  There is no difference in average quantity of products between categories\n",
    "- $H_A$: μ1 ≠ μ2 ≠ μ3 .. μn:  There is a difference in average quantity of product between categories  \n",
    "\n",
    "Alpha is set to 0.05\n"
   ]
  },
  {
   "cell_type": "code",
   "execution_count": 52,
   "metadata": {
    "scrolled": true
   },
   "outputs": [
    {
     "data": {
      "text/html": [
       "<div>\n",
       "<style scoped>\n",
       "    .dataframe tbody tr th:only-of-type {\n",
       "        vertical-align: middle;\n",
       "    }\n",
       "\n",
       "    .dataframe tbody tr th {\n",
       "        vertical-align: top;\n",
       "    }\n",
       "\n",
       "    .dataframe thead th {\n",
       "        text-align: right;\n",
       "    }\n",
       "</style>\n",
       "<table border=\"1\" class=\"dataframe\">\n",
       "  <thead>\n",
       "    <tr style=\"text-align: right;\">\n",
       "      <th></th>\n",
       "      <th>Quantity</th>\n",
       "      <th>CategoryId</th>\n",
       "      <th>Discount</th>\n",
       "      <th>WithDiscount</th>\n",
       "    </tr>\n",
       "  </thead>\n",
       "  <tbody>\n",
       "    <tr>\n",
       "      <th>count</th>\n",
       "      <td>2155.000000</td>\n",
       "      <td>2155.000000</td>\n",
       "      <td>2155.000000</td>\n",
       "      <td>2155.000000</td>\n",
       "    </tr>\n",
       "    <tr>\n",
       "      <th>mean</th>\n",
       "      <td>23.812993</td>\n",
       "      <td>4.135499</td>\n",
       "      <td>0.056241</td>\n",
       "      <td>0.388863</td>\n",
       "    </tr>\n",
       "    <tr>\n",
       "      <th>std</th>\n",
       "      <td>19.022047</td>\n",
       "      <td>2.378567</td>\n",
       "      <td>0.083431</td>\n",
       "      <td>0.487605</td>\n",
       "    </tr>\n",
       "    <tr>\n",
       "      <th>min</th>\n",
       "      <td>1.000000</td>\n",
       "      <td>1.000000</td>\n",
       "      <td>0.000000</td>\n",
       "      <td>0.000000</td>\n",
       "    </tr>\n",
       "    <tr>\n",
       "      <th>25%</th>\n",
       "      <td>10.000000</td>\n",
       "      <td>2.000000</td>\n",
       "      <td>0.000000</td>\n",
       "      <td>0.000000</td>\n",
       "    </tr>\n",
       "    <tr>\n",
       "      <th>50%</th>\n",
       "      <td>20.000000</td>\n",
       "      <td>4.000000</td>\n",
       "      <td>0.000000</td>\n",
       "      <td>0.000000</td>\n",
       "    </tr>\n",
       "    <tr>\n",
       "      <th>75%</th>\n",
       "      <td>30.000000</td>\n",
       "      <td>6.000000</td>\n",
       "      <td>0.100000</td>\n",
       "      <td>1.000000</td>\n",
       "    </tr>\n",
       "    <tr>\n",
       "      <th>max</th>\n",
       "      <td>130.000000</td>\n",
       "      <td>8.000000</td>\n",
       "      <td>0.250000</td>\n",
       "      <td>1.000000</td>\n",
       "    </tr>\n",
       "  </tbody>\n",
       "</table>\n",
       "</div>"
      ],
      "text/plain": [
       "          Quantity   CategoryId     Discount  WithDiscount\n",
       "count  2155.000000  2155.000000  2155.000000   2155.000000\n",
       "mean     23.812993     4.135499     0.056241      0.388863\n",
       "std      19.022047     2.378567     0.083431      0.487605\n",
       "min       1.000000     1.000000     0.000000      0.000000\n",
       "25%      10.000000     2.000000     0.000000      0.000000\n",
       "50%      20.000000     4.000000     0.000000      0.000000\n",
       "75%      30.000000     6.000000     0.100000      1.000000\n",
       "max     130.000000     8.000000     0.250000      1.000000"
      ]
     },
     "metadata": {},
     "output_type": "display_data"
    },
    {
     "data": {
      "text/html": [
       "<div>\n",
       "<style scoped>\n",
       "    .dataframe tbody tr th:only-of-type {\n",
       "        vertical-align: middle;\n",
       "    }\n",
       "\n",
       "    .dataframe tbody tr th {\n",
       "        vertical-align: top;\n",
       "    }\n",
       "\n",
       "    .dataframe thead th {\n",
       "        text-align: right;\n",
       "    }\n",
       "</style>\n",
       "<table border=\"1\" class=\"dataframe\">\n",
       "  <thead>\n",
       "    <tr style=\"text-align: right;\">\n",
       "      <th></th>\n",
       "      <th>mean</th>\n",
       "    </tr>\n",
       "    <tr>\n",
       "      <th>CategoryName</th>\n",
       "      <th></th>\n",
       "    </tr>\n",
       "  </thead>\n",
       "  <tbody>\n",
       "    <tr>\n",
       "      <th>Beverages</th>\n",
       "      <td>23.594059</td>\n",
       "    </tr>\n",
       "    <tr>\n",
       "      <th>Condiments</th>\n",
       "      <td>24.527778</td>\n",
       "    </tr>\n",
       "    <tr>\n",
       "      <th>Confections</th>\n",
       "      <td>23.670659</td>\n",
       "    </tr>\n",
       "    <tr>\n",
       "      <th>Dairy Products</th>\n",
       "      <td>24.997268</td>\n",
       "    </tr>\n",
       "    <tr>\n",
       "      <th>Grains/Cereals</th>\n",
       "      <td>23.275510</td>\n",
       "    </tr>\n",
       "    <tr>\n",
       "      <th>Meat/Poultry</th>\n",
       "      <td>24.271676</td>\n",
       "    </tr>\n",
       "    <tr>\n",
       "      <th>Produce</th>\n",
       "      <td>21.985294</td>\n",
       "    </tr>\n",
       "    <tr>\n",
       "      <th>Seafood</th>\n",
       "      <td>23.275758</td>\n",
       "    </tr>\n",
       "  </tbody>\n",
       "</table>\n",
       "</div>"
      ],
      "text/plain": [
       "                     mean\n",
       "CategoryName             \n",
       "Beverages       23.594059\n",
       "Condiments      24.527778\n",
       "Confections     23.670659\n",
       "Dairy Products  24.997268\n",
       "Grains/Cereals  23.275510\n",
       "Meat/Poultry    24.271676\n",
       "Produce         21.985294\n",
       "Seafood         23.275758"
      ]
     },
     "metadata": {},
     "output_type": "display_data"
    }
   ],
   "source": [
    "#Get the data\n",
    "q = ('''SELECT o.Quantity,  c.CategoryName, c.Id as CategoryId,o.Discount,\n",
    "        CASE\n",
    "            WHEN Discount > 0 THEN 1 \n",
    "            ELSE 0\n",
    "        END AS WithDiscount\n",
    "        FROM OrderDetail o\n",
    "        JOIN Product p on p.Id = o.ProductId\n",
    "        JOIN Category as c on c.Id = p.CategoryId;''')\n",
    "prod_cat = pysqldf(q)\n",
    "display(prod_cat.describe(),prod_cat.groupby('CategoryName').Quantity.agg(['mean']))"
   ]
  },
  {
   "cell_type": "code",
   "execution_count": 53,
   "metadata": {},
   "outputs": [
    {
     "data": {
      "text/html": [
       "<div>\n",
       "<style scoped>\n",
       "    .dataframe tbody tr th:only-of-type {\n",
       "        vertical-align: middle;\n",
       "    }\n",
       "\n",
       "    .dataframe tbody tr th {\n",
       "        vertical-align: top;\n",
       "    }\n",
       "\n",
       "    .dataframe thead th {\n",
       "        text-align: right;\n",
       "    }\n",
       "</style>\n",
       "<table border=\"1\" class=\"dataframe\">\n",
       "  <thead>\n",
       "    <tr style=\"text-align: right;\">\n",
       "      <th></th>\n",
       "      <th>sum_sq</th>\n",
       "      <th>df</th>\n",
       "      <th>F</th>\n",
       "      <th>PR(&gt;F)</th>\n",
       "    </tr>\n",
       "  </thead>\n",
       "  <tbody>\n",
       "    <tr>\n",
       "      <th>C(CategoryId)</th>\n",
       "      <td>1292.377084</td>\n",
       "      <td>7.0</td>\n",
       "      <td>0.509429</td>\n",
       "      <td>0.828058</td>\n",
       "    </tr>\n",
       "    <tr>\n",
       "      <th>Residual</th>\n",
       "      <td>778107.259110</td>\n",
       "      <td>2147.0</td>\n",
       "      <td>NaN</td>\n",
       "      <td>NaN</td>\n",
       "    </tr>\n",
       "  </tbody>\n",
       "</table>\n",
       "</div>"
      ],
      "text/plain": [
       "                      sum_sq      df         F    PR(>F)\n",
       "C(CategoryId)    1292.377084     7.0  0.509429  0.828058\n",
       "Residual       778107.259110  2147.0       NaN       NaN"
      ]
     },
     "execution_count": 53,
     "metadata": {},
     "output_type": "execute_result"
    }
   ],
   "source": [
    "#Run Anova to test significant differences between the means of the independent groups\n",
    "formula = 'Quantity ~ C(CategoryId)'\n",
    "lm = ols(formula, prod_cat).fit()\n",
    "tprod_cat = sm.stats.anova_lm(lm, typ=2) # Type 2 ANOVA DataFrame\n",
    "tprod_cat"
   ]
  },
  {
   "cell_type": "markdown",
   "metadata": {},
   "source": [
    "### Conclusion"
   ]
  },
  {
   "cell_type": "code",
   "execution_count": 54,
   "metadata": {},
   "outputs": [
    {
     "name": "stdout",
     "output_type": "stream",
     "text": [
      "F_stat = 0.509 and the p-value = 0.828\n",
      "Failed to reject the Null Hypothesis since p > 0.05.  There is NOT enough evidence to support the claim that there is a difference in mean quantity between product categories.\n"
     ]
    }
   ],
   "source": [
    "print('F_stat =', tprod_cat['F'][0].round(3),'and the p-value =', tprod_cat['PR(>F)'][0].round(3)) \n",
    "print('Reject Null the Hypothesis since p is < 0.05 The difference between discount amount is statistically significant.') if  tprod_cat['PR(>F)'][0].round(3) <= 0.05 else print('Failed to reject the Null Hypothesis since p > 0.05.  There is NOT enough evidence to support the claim that there is a difference in mean quantity between product categories.')\n"
   ]
  },
  {
   "cell_type": "markdown",
   "metadata": {},
   "source": [
    "[<a href=\"#Module-3-Final-Project\">Jump back to Table of Contents</a>]  \n",
    " "
   ]
  },
  {
   "cell_type": "markdown",
   "metadata": {},
   "source": [
    "### 4f2.  Is there a difference in the mean quantity of order between product categories and discounts?\n",
    "\n",
    "- $H_0$: μ1 = μ2 = μ3 .. μn:  There is no difference in average quantity of product between categories and discounts\n",
    "- $H_A$: μ1 ≠ μ2 ≠ μ3 .. μn:  There is a difference in average quantity of product between categories and discounts\n",
    "\n",
    "Alpha is set to 0.05\n"
   ]
  },
  {
   "cell_type": "code",
   "execution_count": 55,
   "metadata": {},
   "outputs": [
    {
     "data": {
      "text/html": [
       "<div>\n",
       "<style scoped>\n",
       "    .dataframe tbody tr th:only-of-type {\n",
       "        vertical-align: middle;\n",
       "    }\n",
       "\n",
       "    .dataframe tbody tr th {\n",
       "        vertical-align: top;\n",
       "    }\n",
       "\n",
       "    .dataframe thead th {\n",
       "        text-align: right;\n",
       "    }\n",
       "</style>\n",
       "<table border=\"1\" class=\"dataframe\">\n",
       "  <thead>\n",
       "    <tr style=\"text-align: right;\">\n",
       "      <th></th>\n",
       "      <th>sum_sq</th>\n",
       "      <th>df</th>\n",
       "      <th>F</th>\n",
       "      <th>PR(&gt;F)</th>\n",
       "    </tr>\n",
       "  </thead>\n",
       "  <tbody>\n",
       "    <tr>\n",
       "      <th>C(CategoryId)</th>\n",
       "      <td>1118.470015</td>\n",
       "      <td>7.0</td>\n",
       "      <td>0.449689</td>\n",
       "      <td>8.708672e-01</td>\n",
       "    </tr>\n",
       "    <tr>\n",
       "      <th>C(WithDiscount)</th>\n",
       "      <td>14729.606130</td>\n",
       "      <td>1.0</td>\n",
       "      <td>41.454988</td>\n",
       "      <td>1.484744e-10</td>\n",
       "    </tr>\n",
       "    <tr>\n",
       "      <th>C(CategoryId):C(WithDiscount)</th>\n",
       "      <td>3357.463105</td>\n",
       "      <td>7.0</td>\n",
       "      <td>1.349892</td>\n",
       "      <td>2.226259e-01</td>\n",
       "    </tr>\n",
       "    <tr>\n",
       "      <th>Residual</th>\n",
       "      <td>760020.189876</td>\n",
       "      <td>2139.0</td>\n",
       "      <td>NaN</td>\n",
       "      <td>NaN</td>\n",
       "    </tr>\n",
       "  </tbody>\n",
       "</table>\n",
       "</div>"
      ],
      "text/plain": [
       "                                      sum_sq      df          F        PR(>F)\n",
       "C(CategoryId)                    1118.470015     7.0   0.449689  8.708672e-01\n",
       "C(WithDiscount)                 14729.606130     1.0  41.454988  1.484744e-10\n",
       "C(CategoryId):C(WithDiscount)    3357.463105     7.0   1.349892  2.226259e-01\n",
       "Residual                       760020.189876  2139.0        NaN           NaN"
      ]
     },
     "execution_count": 55,
     "metadata": {},
     "output_type": "execute_result"
    }
   ],
   "source": [
    "#Run Anova to test significant differences between the means of the independent groups\n",
    "formula = 'Quantity ~ C(CategoryId)*C(WithDiscount)'\n",
    "lm = ols(formula, prod_cat).fit()\n",
    "tprod_catd = sm.stats.anova_lm(lm, typ=2) \n",
    "tprod_catd "
   ]
  },
  {
   "cell_type": "markdown",
   "metadata": {},
   "source": [
    "### Conclusion"
   ]
  },
  {
   "cell_type": "code",
   "execution_count": 56,
   "metadata": {},
   "outputs": [
    {
     "name": "stdout",
     "output_type": "stream",
     "text": [
      "F_stat = 1.35 and the p-value = 0.223\n",
      "Failed to reject the Null Hypothesis since p > 0.05.  There is NOT enough evidence to support the claim that there is a difference in mean quantity between product categories and discounts.\n"
     ]
    }
   ],
   "source": [
    "print('F_stat =', tprod_catd['F'][2].round(3),'and the p-value =', tprod_catd['PR(>F)'][2].round(3)) \n",
    "print('Reject Null Hypothesis since p is < 0.05. The difference between discount amount is statistically significant.') if tprod_catd['PR(>F)'][2].round(3) <= 0.05 else print('Failed to reject the Null Hypothesis since p > 0.05.  There is NOT enough evidence to support the claim that there is a difference in mean quantity between product categories and discounts.')\n"
   ]
  },
  {
   "cell_type": "markdown",
   "metadata": {},
   "source": [
    "[<a href=\"#Module-3-Final-Project\">Jump back to Table of Contents</a>]  \n",
    " "
   ]
  },
  {
   "cell_type": "markdown",
   "metadata": {},
   "source": [
    "### 4g. Is there a statistically significant difference in discount between product categories?  \n",
    "\n",
    "- $H_0$: μ1 = μ2 = μ3 .. μn:  There is no difference in discounts between product categories\n",
    "- $H_A$: μ1 ≠ μ2 ≠ μ3 .. μn:  There is a difference in discounts between product categories\n",
    "\n",
    "Alpha is set to 0.05\n"
   ]
  },
  {
   "cell_type": "code",
   "execution_count": 57,
   "metadata": {},
   "outputs": [
    {
     "data": {
      "text/html": [
       "<div>\n",
       "<style scoped>\n",
       "    .dataframe tbody tr th:only-of-type {\n",
       "        vertical-align: middle;\n",
       "    }\n",
       "\n",
       "    .dataframe tbody tr th {\n",
       "        vertical-align: top;\n",
       "    }\n",
       "\n",
       "    .dataframe thead th {\n",
       "        text-align: right;\n",
       "    }\n",
       "</style>\n",
       "<table border=\"1\" class=\"dataframe\">\n",
       "  <thead>\n",
       "    <tr style=\"text-align: right;\">\n",
       "      <th></th>\n",
       "      <th>df</th>\n",
       "      <th>sum_sq</th>\n",
       "      <th>mean_sq</th>\n",
       "      <th>F</th>\n",
       "      <th>PR(&gt;F)</th>\n",
       "    </tr>\n",
       "  </thead>\n",
       "  <tbody>\n",
       "    <tr>\n",
       "      <th>C(CategoryId)</th>\n",
       "      <td>7.0</td>\n",
       "      <td>0.074530</td>\n",
       "      <td>0.010647</td>\n",
       "      <td>1.532223</td>\n",
       "      <td>0.151717</td>\n",
       "    </tr>\n",
       "    <tr>\n",
       "      <th>Residual</th>\n",
       "      <td>2147.0</td>\n",
       "      <td>14.919025</td>\n",
       "      <td>0.006949</td>\n",
       "      <td>NaN</td>\n",
       "      <td>NaN</td>\n",
       "    </tr>\n",
       "  </tbody>\n",
       "</table>\n",
       "</div>"
      ],
      "text/plain": [
       "                   df     sum_sq   mean_sq         F    PR(>F)\n",
       "C(CategoryId)     7.0   0.074530  0.010647  1.532223  0.151717\n",
       "Residual       2147.0  14.919025  0.006949       NaN       NaN"
      ]
     },
     "execution_count": 57,
     "metadata": {},
     "output_type": "execute_result"
    }
   ],
   "source": [
    "#Run Anova to test significant differences between the means of the independent groups\n",
    "formula = 'Discount ~ C(CategoryId)'\n",
    "lm = ols(formula, prod_cat).fit()\n",
    "tprod_catd = sm.stats.anova_lm(lm, typ=1) \n",
    "tprod_catd "
   ]
  },
  {
   "cell_type": "markdown",
   "metadata": {},
   "source": [
    "### Conclusion\n"
   ]
  },
  {
   "cell_type": "code",
   "execution_count": 58,
   "metadata": {},
   "outputs": [
    {
     "name": "stdout",
     "output_type": "stream",
     "text": [
      "F_stat = 1.532 and the p-value = 0.152\n",
      "Failed to reject the Null Hypothesis since p > 0.05.  There is NOT enough evidence to support the claim that there is a difference in discount amount between product categories.\n"
     ]
    }
   ],
   "source": [
    "print('F_stat =', tprod_catd['F'][0].round(3),'and the p-value =', tprod_catd['PR(>F)'][0].round(3)) \n",
    "print('Reject Null Hypothesis since p is < 0.05. The difference between discount amount is statistically significant.') if tprod_catd['PR(>F)'][0].round(3) <= 0.05 else print('Failed to reject the Null Hypothesis since p > 0.05.  There is NOT enough evidence to support the claim that there is a difference in discount amount between product categories.')\n"
   ]
  },
  {
   "cell_type": "markdown",
   "metadata": {},
   "source": [
    "[<a href=\"#Module-3-Final-Project\">Jump back to Table of Contents</a>]  \n",
    " "
   ]
  },
  {
   "cell_type": "markdown",
   "metadata": {},
   "source": [
    "### 4h. Is there a difference in the mean quantity of order between salesperson?  \n",
    "\n",
    "- $H_0$: μ1 = μ2 = μ3 .. μn:  There is no difference in average quantity of product between salespersons\n",
    "- $H_A$: μ1 ≠ μ2 ≠ μ3 .. μn:  There is a difference in average quantity of product between salespersons\n",
    "\n",
    "Alpha is set to 0.05\n"
   ]
  },
  {
   "cell_type": "code",
   "execution_count": 59,
   "metadata": {},
   "outputs": [
    {
     "data": {
      "text/html": [
       "<div>\n",
       "<style scoped>\n",
       "    .dataframe tbody tr th:only-of-type {\n",
       "        vertical-align: middle;\n",
       "    }\n",
       "\n",
       "    .dataframe tbody tr th {\n",
       "        vertical-align: top;\n",
       "    }\n",
       "\n",
       "    .dataframe thead th {\n",
       "        text-align: right;\n",
       "    }\n",
       "</style>\n",
       "<table border=\"1\" class=\"dataframe\">\n",
       "  <thead>\n",
       "    <tr style=\"text-align: right;\">\n",
       "      <th></th>\n",
       "      <th>Salesperson</th>\n",
       "      <th>Quantity</th>\n",
       "      <th>Discount</th>\n",
       "      <th>TotalSales</th>\n",
       "      <th>WithDiscount</th>\n",
       "    </tr>\n",
       "  </thead>\n",
       "  <tbody>\n",
       "    <tr>\n",
       "      <th>count</th>\n",
       "      <td>2155.000000</td>\n",
       "      <td>2155.000000</td>\n",
       "      <td>2155.000000</td>\n",
       "      <td>2155.000000</td>\n",
       "      <td>2155.000000</td>\n",
       "    </tr>\n",
       "    <tr>\n",
       "      <th>mean</th>\n",
       "      <td>4.333179</td>\n",
       "      <td>23.812993</td>\n",
       "      <td>0.056241</td>\n",
       "      <td>587.372337</td>\n",
       "      <td>0.388863</td>\n",
       "    </tr>\n",
       "    <tr>\n",
       "      <th>std</th>\n",
       "      <td>2.490351</td>\n",
       "      <td>19.022047</td>\n",
       "      <td>0.083431</td>\n",
       "      <td>969.225716</td>\n",
       "      <td>0.487605</td>\n",
       "    </tr>\n",
       "    <tr>\n",
       "      <th>min</th>\n",
       "      <td>1.000000</td>\n",
       "      <td>1.000000</td>\n",
       "      <td>0.000000</td>\n",
       "      <td>4.800000</td>\n",
       "      <td>0.000000</td>\n",
       "    </tr>\n",
       "    <tr>\n",
       "      <th>25%</th>\n",
       "      <td>2.000000</td>\n",
       "      <td>10.000000</td>\n",
       "      <td>0.000000</td>\n",
       "      <td>147.000000</td>\n",
       "      <td>0.000000</td>\n",
       "    </tr>\n",
       "    <tr>\n",
       "      <th>50%</th>\n",
       "      <td>4.000000</td>\n",
       "      <td>20.000000</td>\n",
       "      <td>0.000000</td>\n",
       "      <td>337.750000</td>\n",
       "      <td>0.000000</td>\n",
       "    </tr>\n",
       "    <tr>\n",
       "      <th>75%</th>\n",
       "      <td>7.000000</td>\n",
       "      <td>30.000000</td>\n",
       "      <td>0.100000</td>\n",
       "      <td>656.000000</td>\n",
       "      <td>1.000000</td>\n",
       "    </tr>\n",
       "    <tr>\n",
       "      <th>max</th>\n",
       "      <td>9.000000</td>\n",
       "      <td>130.000000</td>\n",
       "      <td>0.250000</td>\n",
       "      <td>15810.000000</td>\n",
       "      <td>1.000000</td>\n",
       "    </tr>\n",
       "  </tbody>\n",
       "</table>\n",
       "</div>"
      ],
      "text/plain": [
       "       Salesperson     Quantity     Discount    TotalSales  WithDiscount\n",
       "count  2155.000000  2155.000000  2155.000000   2155.000000   2155.000000\n",
       "mean      4.333179    23.812993     0.056241    587.372337      0.388863\n",
       "std       2.490351    19.022047     0.083431    969.225716      0.487605\n",
       "min       1.000000     1.000000     0.000000      4.800000      0.000000\n",
       "25%       2.000000    10.000000     0.000000    147.000000      0.000000\n",
       "50%       4.000000    20.000000     0.000000    337.750000      0.000000\n",
       "75%       7.000000    30.000000     0.100000    656.000000      1.000000\n",
       "max       9.000000   130.000000     0.250000  15810.000000      1.000000"
      ]
     },
     "metadata": {},
     "output_type": "display_data"
    },
    {
     "data": {
      "text/html": [
       "<div>\n",
       "<style scoped>\n",
       "    .dataframe tbody tr th:only-of-type {\n",
       "        vertical-align: middle;\n",
       "    }\n",
       "\n",
       "    .dataframe tbody tr th {\n",
       "        vertical-align: top;\n",
       "    }\n",
       "\n",
       "    .dataframe thead th {\n",
       "        text-align: right;\n",
       "    }\n",
       "</style>\n",
       "<table border=\"1\" class=\"dataframe\">\n",
       "  <thead>\n",
       "    <tr style=\"text-align: right;\">\n",
       "      <th></th>\n",
       "      <th>mean</th>\n",
       "    </tr>\n",
       "    <tr>\n",
       "      <th>Salesperson</th>\n",
       "      <th></th>\n",
       "    </tr>\n",
       "  </thead>\n",
       "  <tbody>\n",
       "    <tr>\n",
       "      <th>1</th>\n",
       "      <td>22.643478</td>\n",
       "    </tr>\n",
       "    <tr>\n",
       "      <th>2</th>\n",
       "      <td>25.124481</td>\n",
       "    </tr>\n",
       "    <tr>\n",
       "      <th>3</th>\n",
       "      <td>24.461059</td>\n",
       "    </tr>\n",
       "    <tr>\n",
       "      <th>4</th>\n",
       "      <td>23.328571</td>\n",
       "    </tr>\n",
       "    <tr>\n",
       "      <th>5</th>\n",
       "      <td>25.948718</td>\n",
       "    </tr>\n",
       "    <tr>\n",
       "      <th>6</th>\n",
       "      <td>20.994048</td>\n",
       "    </tr>\n",
       "    <tr>\n",
       "      <th>7</th>\n",
       "      <td>26.443182</td>\n",
       "    </tr>\n",
       "    <tr>\n",
       "      <th>8</th>\n",
       "      <td>22.742308</td>\n",
       "    </tr>\n",
       "    <tr>\n",
       "      <th>9</th>\n",
       "      <td>24.953271</td>\n",
       "    </tr>\n",
       "  </tbody>\n",
       "</table>\n",
       "</div>"
      ],
      "text/plain": [
       "                  mean\n",
       "Salesperson           \n",
       "1            22.643478\n",
       "2            25.124481\n",
       "3            24.461059\n",
       "4            23.328571\n",
       "5            25.948718\n",
       "6            20.994048\n",
       "7            26.443182\n",
       "8            22.742308\n",
       "9            24.953271"
      ]
     },
     "metadata": {},
     "output_type": "display_data"
    }
   ],
   "source": [
    "q=('''SELECT  \n",
    "   d.Id  as Salesperson, d.FirstName , d.LastName ,\n",
    "    e.Quantity, \n",
    "    e.Discount,\n",
    "    e.UnitPrice * e.Quantity * (1 - e.Discount) as TotalSales,\n",
    "    CASE\n",
    "        WHEN Discount > 0 THEN 1 \n",
    "        ELSE 0\n",
    "    END AS WithDiscount\n",
    "FROM Orders b \n",
    "\n",
    "LEFT JOIN Employee d on d.Id = b.EmployeeID\n",
    "LEFT JOIN OrderDetail e on b.Id = e.OrderID\n",
    "LEFT JOIN Product f on f.Id = e.ProductID\n",
    "WHERE   e.Quantity is not null \n",
    "ORDER BY e.Id;''')\n",
    "salesdf = pysqldf(q)\n",
    "salesdf.head()\n",
    "display(salesdf.describe(),salesdf.groupby('Salesperson').Quantity.agg(['mean']))"
   ]
  },
  {
   "cell_type": "code",
   "execution_count": 60,
   "metadata": {},
   "outputs": [
    {
     "data": {
      "text/html": [
       "<div>\n",
       "<style scoped>\n",
       "    .dataframe tbody tr th:only-of-type {\n",
       "        vertical-align: middle;\n",
       "    }\n",
       "\n",
       "    .dataframe tbody tr th {\n",
       "        vertical-align: top;\n",
       "    }\n",
       "\n",
       "    .dataframe thead th {\n",
       "        text-align: right;\n",
       "    }\n",
       "</style>\n",
       "<table border=\"1\" class=\"dataframe\">\n",
       "  <thead>\n",
       "    <tr style=\"text-align: right;\">\n",
       "      <th></th>\n",
       "      <th>sum_sq</th>\n",
       "      <th>df</th>\n",
       "      <th>F</th>\n",
       "      <th>PR(&gt;F)</th>\n",
       "    </tr>\n",
       "  </thead>\n",
       "  <tbody>\n",
       "    <tr>\n",
       "      <th>C(Salesperson)</th>\n",
       "      <td>4643.183282</td>\n",
       "      <td>8.0</td>\n",
       "      <td>1.607646</td>\n",
       "      <td>0.11745</td>\n",
       "    </tr>\n",
       "    <tr>\n",
       "      <th>Residual</th>\n",
       "      <td>774756.452913</td>\n",
       "      <td>2146.0</td>\n",
       "      <td>NaN</td>\n",
       "      <td>NaN</td>\n",
       "    </tr>\n",
       "  </tbody>\n",
       "</table>\n",
       "</div>"
      ],
      "text/plain": [
       "                       sum_sq      df         F   PR(>F)\n",
       "C(Salesperson)    4643.183282     8.0  1.607646  0.11745\n",
       "Residual        774756.452913  2146.0       NaN      NaN"
      ]
     },
     "execution_count": 60,
     "metadata": {},
     "output_type": "execute_result"
    }
   ],
   "source": [
    "#Run Anova to test significant differences between the means of the independent groups\n",
    "formula = 'Quantity ~ C(Salesperson)'\n",
    "lm = ols(formula, salesdf).fit()\n",
    "tsalesdf = sm.stats.anova_lm(lm, typ=2) \n",
    "tsalesdf"
   ]
  },
  {
   "cell_type": "markdown",
   "metadata": {},
   "source": [
    "### Conclusion"
   ]
  },
  {
   "cell_type": "code",
   "execution_count": 61,
   "metadata": {},
   "outputs": [
    {
     "name": "stdout",
     "output_type": "stream",
     "text": [
      "F_stat = 1.608 and the p-value = 0.117\n",
      "Failed to reject the Null Hypothesis since p > 0.05.  There is NOT enough evidence to support the claim that there is a difference in mean quantity of order between Salespersons.\n"
     ]
    }
   ],
   "source": [
    "print('F_stat =', tsalesdf['F'][0].round(3),'and the p-value =', tsalesdf['PR(>F)'][0].round(3)) \n",
    "print('Reject Null Hypothesis since p is < 0.05') if tsalesdf['PR(>F)'][0].round(3) <= 0.05 else print('Failed to reject the Null Hypothesis since p > 0.05.  There is NOT enough evidence to support the claim that there is a difference in mean quantity of order between Salespersons.')"
   ]
  },
  {
   "cell_type": "markdown",
   "metadata": {},
   "source": [
    "[<a href=\"#Module-3-Final-Project\">Jump back to Table of Contents</a>]  \n",
    " "
   ]
  },
  {
   "cell_type": "markdown",
   "metadata": {},
   "source": [
    "### 4i. Is there a difference in the mean Total Sales between Customer Country?  \n",
    "\n",
    "\n",
    "- $H_0$: μ1 = μ2 = μ3 .. μn:  There is no difference in average total sales between customer/country\n",
    "- $H_A$: μ1 ≠ μ2 ≠ μ3 .. μn:  There is a difference in average total sales between customer country  \n",
    "\n",
    "Alpha is set to 0.05"
   ]
  },
  {
   "cell_type": "code",
   "execution_count": 62,
   "metadata": {},
   "outputs": [
    {
     "data": {
      "text/html": [
       "<div>\n",
       "<style scoped>\n",
       "    .dataframe tbody tr th:only-of-type {\n",
       "        vertical-align: middle;\n",
       "    }\n",
       "\n",
       "    .dataframe tbody tr th {\n",
       "        vertical-align: top;\n",
       "    }\n",
       "\n",
       "    .dataframe thead th {\n",
       "        text-align: right;\n",
       "    }\n",
       "</style>\n",
       "<table border=\"1\" class=\"dataframe\">\n",
       "  <thead>\n",
       "    <tr style=\"text-align: right;\">\n",
       "      <th></th>\n",
       "      <th>count</th>\n",
       "      <th>mean</th>\n",
       "      <th>std</th>\n",
       "      <th>min</th>\n",
       "      <th>25%</th>\n",
       "      <th>50%</th>\n",
       "      <th>75%</th>\n",
       "      <th>max</th>\n",
       "    </tr>\n",
       "    <tr>\n",
       "      <th>Country</th>\n",
       "      <th></th>\n",
       "      <th></th>\n",
       "      <th></th>\n",
       "      <th></th>\n",
       "      <th></th>\n",
       "      <th></th>\n",
       "      <th></th>\n",
       "      <th></th>\n",
       "    </tr>\n",
       "  </thead>\n",
       "  <tbody>\n",
       "    <tr>\n",
       "      <th>Argentina</th>\n",
       "      <td>23.0</td>\n",
       "      <td>202.560870</td>\n",
       "      <td>149.196355</td>\n",
       "      <td>12.50</td>\n",
       "      <td>64.50000</td>\n",
       "      <td>155.00000</td>\n",
       "      <td>308.0000</td>\n",
       "      <td>527.000</td>\n",
       "    </tr>\n",
       "    <tr>\n",
       "      <th>Austria</th>\n",
       "      <td>125.0</td>\n",
       "      <td>1024.030708</td>\n",
       "      <td>1260.878133</td>\n",
       "      <td>36.00</td>\n",
       "      <td>331.50000</td>\n",
       "      <td>606.90000</td>\n",
       "      <td>1197.0000</td>\n",
       "      <td>8432.000</td>\n",
       "    </tr>\n",
       "    <tr>\n",
       "      <th>Belgium</th>\n",
       "      <td>56.0</td>\n",
       "      <td>604.015268</td>\n",
       "      <td>580.804619</td>\n",
       "      <td>14.00</td>\n",
       "      <td>193.09500</td>\n",
       "      <td>450.00000</td>\n",
       "      <td>775.2500</td>\n",
       "      <td>2750.000</td>\n",
       "    </tr>\n",
       "    <tr>\n",
       "      <th>Brazil</th>\n",
       "      <td>163.0</td>\n",
       "      <td>498.210301</td>\n",
       "      <td>1274.380358</td>\n",
       "      <td>8.64</td>\n",
       "      <td>132.37500</td>\n",
       "      <td>280.00000</td>\n",
       "      <td>490.9550</td>\n",
       "      <td>15810.000</td>\n",
       "    </tr>\n",
       "    <tr>\n",
       "      <th>Canada</th>\n",
       "      <td>75.0</td>\n",
       "      <td>669.283867</td>\n",
       "      <td>1067.354908</td>\n",
       "      <td>22.50</td>\n",
       "      <td>156.80000</td>\n",
       "      <td>396.80000</td>\n",
       "      <td>750.5000</td>\n",
       "      <td>8263.360</td>\n",
       "    </tr>\n",
       "    <tr>\n",
       "      <th>Denmark</th>\n",
       "      <td>46.0</td>\n",
       "      <td>710.022228</td>\n",
       "      <td>1558.969648</td>\n",
       "      <td>14.40</td>\n",
       "      <td>187.65625</td>\n",
       "      <td>350.30000</td>\n",
       "      <td>592.5000</td>\n",
       "      <td>10540.000</td>\n",
       "    </tr>\n",
       "    <tr>\n",
       "      <th>Finland</th>\n",
       "      <td>54.0</td>\n",
       "      <td>348.334306</td>\n",
       "      <td>305.821999</td>\n",
       "      <td>17.88</td>\n",
       "      <td>126.00000</td>\n",
       "      <td>269.00000</td>\n",
       "      <td>492.0000</td>\n",
       "      <td>1310.000</td>\n",
       "    </tr>\n",
       "    <tr>\n",
       "      <th>France</th>\n",
       "      <td>175.0</td>\n",
       "      <td>455.670986</td>\n",
       "      <td>536.561072</td>\n",
       "      <td>8.50</td>\n",
       "      <td>124.20000</td>\n",
       "      <td>259.20000</td>\n",
       "      <td>558.4000</td>\n",
       "      <td>3465.000</td>\n",
       "    </tr>\n",
       "    <tr>\n",
       "      <th>Germany</th>\n",
       "      <td>328.0</td>\n",
       "      <td>702.087297</td>\n",
       "      <td>1169.192029</td>\n",
       "      <td>13.50</td>\n",
       "      <td>183.35000</td>\n",
       "      <td>444.11250</td>\n",
       "      <td>811.8750</td>\n",
       "      <td>15019.500</td>\n",
       "    </tr>\n",
       "    <tr>\n",
       "      <th>Ireland</th>\n",
       "      <td>55.0</td>\n",
       "      <td>908.725545</td>\n",
       "      <td>1528.344138</td>\n",
       "      <td>22.40</td>\n",
       "      <td>307.67000</td>\n",
       "      <td>520.00000</td>\n",
       "      <td>881.6875</td>\n",
       "      <td>9903.200</td>\n",
       "    </tr>\n",
       "    <tr>\n",
       "      <th>Italy</th>\n",
       "      <td>53.0</td>\n",
       "      <td>297.550094</td>\n",
       "      <td>274.370707</td>\n",
       "      <td>18.40</td>\n",
       "      <td>55.20000</td>\n",
       "      <td>193.00000</td>\n",
       "      <td>476.0000</td>\n",
       "      <td>1252.800</td>\n",
       "    </tr>\n",
       "    <tr>\n",
       "      <th>Mexico</th>\n",
       "      <td>55.0</td>\n",
       "      <td>301.056364</td>\n",
       "      <td>539.362443</td>\n",
       "      <td>20.80</td>\n",
       "      <td>67.07500</td>\n",
       "      <td>196.80000</td>\n",
       "      <td>366.0000</td>\n",
       "      <td>3952.500</td>\n",
       "    </tr>\n",
       "    <tr>\n",
       "      <th>Norway</th>\n",
       "      <td>16.0</td>\n",
       "      <td>358.446875</td>\n",
       "      <td>494.001037</td>\n",
       "      <td>18.40</td>\n",
       "      <td>121.50000</td>\n",
       "      <td>246.00000</td>\n",
       "      <td>394.7625</td>\n",
       "      <td>2108.000</td>\n",
       "    </tr>\n",
       "    <tr>\n",
       "      <th>Poland</th>\n",
       "      <td>16.0</td>\n",
       "      <td>220.746875</td>\n",
       "      <td>163.075679</td>\n",
       "      <td>22.35</td>\n",
       "      <td>107.50000</td>\n",
       "      <td>190.00000</td>\n",
       "      <td>249.3750</td>\n",
       "      <td>591.600</td>\n",
       "    </tr>\n",
       "    <tr>\n",
       "      <th>Portugal</th>\n",
       "      <td>30.0</td>\n",
       "      <td>382.412083</td>\n",
       "      <td>334.014482</td>\n",
       "      <td>36.00</td>\n",
       "      <td>114.30000</td>\n",
       "      <td>246.83375</td>\n",
       "      <td>622.6250</td>\n",
       "      <td>1237.900</td>\n",
       "    </tr>\n",
       "    <tr>\n",
       "      <th>Spain</th>\n",
       "      <td>54.0</td>\n",
       "      <td>333.022222</td>\n",
       "      <td>497.269196</td>\n",
       "      <td>7.30</td>\n",
       "      <td>73.50000</td>\n",
       "      <td>198.50000</td>\n",
       "      <td>310.0000</td>\n",
       "      <td>2475.800</td>\n",
       "    </tr>\n",
       "    <tr>\n",
       "      <th>Sweden</th>\n",
       "      <td>97.0</td>\n",
       "      <td>561.805567</td>\n",
       "      <td>747.419103</td>\n",
       "      <td>18.60</td>\n",
       "      <td>179.55000</td>\n",
       "      <td>300.00000</td>\n",
       "      <td>612.0000</td>\n",
       "      <td>4642.125</td>\n",
       "    </tr>\n",
       "    <tr>\n",
       "      <th>Switzerland</th>\n",
       "      <td>52.0</td>\n",
       "      <td>609.474212</td>\n",
       "      <td>713.996585</td>\n",
       "      <td>30.60</td>\n",
       "      <td>222.30000</td>\n",
       "      <td>383.80000</td>\n",
       "      <td>651.1500</td>\n",
       "      <td>4456.440</td>\n",
       "    </tr>\n",
       "    <tr>\n",
       "      <th>UK</th>\n",
       "      <td>135.0</td>\n",
       "      <td>436.824519</td>\n",
       "      <td>502.957915</td>\n",
       "      <td>4.80</td>\n",
       "      <td>118.50000</td>\n",
       "      <td>273.60000</td>\n",
       "      <td>600.8750</td>\n",
       "      <td>3847.500</td>\n",
       "    </tr>\n",
       "    <tr>\n",
       "      <th>USA</th>\n",
       "      <td>352.0</td>\n",
       "      <td>697.667493</td>\n",
       "      <td>1099.778386</td>\n",
       "      <td>14.00</td>\n",
       "      <td>146.25000</td>\n",
       "      <td>376.27500</td>\n",
       "      <td>782.4375</td>\n",
       "      <td>10540.000</td>\n",
       "    </tr>\n",
       "    <tr>\n",
       "      <th>Venezuela</th>\n",
       "      <td>118.0</td>\n",
       "      <td>481.446008</td>\n",
       "      <td>467.260442</td>\n",
       "      <td>33.75</td>\n",
       "      <td>157.50000</td>\n",
       "      <td>310.00000</td>\n",
       "      <td>648.0000</td>\n",
       "      <td>2640.000</td>\n",
       "    </tr>\n",
       "  </tbody>\n",
       "</table>\n",
       "</div>"
      ],
      "text/plain": [
       "             count         mean          std    min        25%        50%  \\\n",
       "Country                                                                     \n",
       "Argentina     23.0   202.560870   149.196355  12.50   64.50000  155.00000   \n",
       "Austria      125.0  1024.030708  1260.878133  36.00  331.50000  606.90000   \n",
       "Belgium       56.0   604.015268   580.804619  14.00  193.09500  450.00000   \n",
       "Brazil       163.0   498.210301  1274.380358   8.64  132.37500  280.00000   \n",
       "Canada        75.0   669.283867  1067.354908  22.50  156.80000  396.80000   \n",
       "Denmark       46.0   710.022228  1558.969648  14.40  187.65625  350.30000   \n",
       "Finland       54.0   348.334306   305.821999  17.88  126.00000  269.00000   \n",
       "France       175.0   455.670986   536.561072   8.50  124.20000  259.20000   \n",
       "Germany      328.0   702.087297  1169.192029  13.50  183.35000  444.11250   \n",
       "Ireland       55.0   908.725545  1528.344138  22.40  307.67000  520.00000   \n",
       "Italy         53.0   297.550094   274.370707  18.40   55.20000  193.00000   \n",
       "Mexico        55.0   301.056364   539.362443  20.80   67.07500  196.80000   \n",
       "Norway        16.0   358.446875   494.001037  18.40  121.50000  246.00000   \n",
       "Poland        16.0   220.746875   163.075679  22.35  107.50000  190.00000   \n",
       "Portugal      30.0   382.412083   334.014482  36.00  114.30000  246.83375   \n",
       "Spain         54.0   333.022222   497.269196   7.30   73.50000  198.50000   \n",
       "Sweden        97.0   561.805567   747.419103  18.60  179.55000  300.00000   \n",
       "Switzerland   52.0   609.474212   713.996585  30.60  222.30000  383.80000   \n",
       "UK           135.0   436.824519   502.957915   4.80  118.50000  273.60000   \n",
       "USA          352.0   697.667493  1099.778386  14.00  146.25000  376.27500   \n",
       "Venezuela    118.0   481.446008   467.260442  33.75  157.50000  310.00000   \n",
       "\n",
       "                   75%        max  \n",
       "Country                            \n",
       "Argentina     308.0000    527.000  \n",
       "Austria      1197.0000   8432.000  \n",
       "Belgium       775.2500   2750.000  \n",
       "Brazil        490.9550  15810.000  \n",
       "Canada        750.5000   8263.360  \n",
       "Denmark       592.5000  10540.000  \n",
       "Finland       492.0000   1310.000  \n",
       "France        558.4000   3465.000  \n",
       "Germany       811.8750  15019.500  \n",
       "Ireland       881.6875   9903.200  \n",
       "Italy         476.0000   1252.800  \n",
       "Mexico        366.0000   3952.500  \n",
       "Norway        394.7625   2108.000  \n",
       "Poland        249.3750    591.600  \n",
       "Portugal      622.6250   1237.900  \n",
       "Spain         310.0000   2475.800  \n",
       "Sweden        612.0000   4642.125  \n",
       "Switzerland   651.1500   4456.440  \n",
       "UK            600.8750   3847.500  \n",
       "USA           782.4375  10540.000  \n",
       "Venezuela     648.0000   2640.000  "
      ]
     },
     "metadata": {},
     "output_type": "display_data"
    },
    {
     "data": {
      "text/html": [
       "<div>\n",
       "<style scoped>\n",
       "    .dataframe tbody tr th:only-of-type {\n",
       "        vertical-align: middle;\n",
       "    }\n",
       "\n",
       "    .dataframe tbody tr th {\n",
       "        vertical-align: top;\n",
       "    }\n",
       "\n",
       "    .dataframe thead th {\n",
       "        text-align: right;\n",
       "    }\n",
       "</style>\n",
       "<table border=\"1\" class=\"dataframe\">\n",
       "  <thead>\n",
       "    <tr style=\"text-align: right;\">\n",
       "      <th></th>\n",
       "      <th>mean</th>\n",
       "    </tr>\n",
       "    <tr>\n",
       "      <th>Country</th>\n",
       "      <th></th>\n",
       "    </tr>\n",
       "  </thead>\n",
       "  <tbody>\n",
       "    <tr>\n",
       "      <th>Argentina</th>\n",
       "      <td>202.560870</td>\n",
       "    </tr>\n",
       "    <tr>\n",
       "      <th>Austria</th>\n",
       "      <td>1024.030708</td>\n",
       "    </tr>\n",
       "    <tr>\n",
       "      <th>Belgium</th>\n",
       "      <td>604.015268</td>\n",
       "    </tr>\n",
       "    <tr>\n",
       "      <th>Brazil</th>\n",
       "      <td>498.210301</td>\n",
       "    </tr>\n",
       "    <tr>\n",
       "      <th>Canada</th>\n",
       "      <td>669.283867</td>\n",
       "    </tr>\n",
       "    <tr>\n",
       "      <th>Denmark</th>\n",
       "      <td>710.022228</td>\n",
       "    </tr>\n",
       "    <tr>\n",
       "      <th>Finland</th>\n",
       "      <td>348.334306</td>\n",
       "    </tr>\n",
       "    <tr>\n",
       "      <th>France</th>\n",
       "      <td>455.670986</td>\n",
       "    </tr>\n",
       "    <tr>\n",
       "      <th>Germany</th>\n",
       "      <td>702.087297</td>\n",
       "    </tr>\n",
       "    <tr>\n",
       "      <th>Ireland</th>\n",
       "      <td>908.725545</td>\n",
       "    </tr>\n",
       "    <tr>\n",
       "      <th>Italy</th>\n",
       "      <td>297.550094</td>\n",
       "    </tr>\n",
       "    <tr>\n",
       "      <th>Mexico</th>\n",
       "      <td>301.056364</td>\n",
       "    </tr>\n",
       "    <tr>\n",
       "      <th>Norway</th>\n",
       "      <td>358.446875</td>\n",
       "    </tr>\n",
       "    <tr>\n",
       "      <th>Poland</th>\n",
       "      <td>220.746875</td>\n",
       "    </tr>\n",
       "    <tr>\n",
       "      <th>Portugal</th>\n",
       "      <td>382.412083</td>\n",
       "    </tr>\n",
       "    <tr>\n",
       "      <th>Spain</th>\n",
       "      <td>333.022222</td>\n",
       "    </tr>\n",
       "    <tr>\n",
       "      <th>Sweden</th>\n",
       "      <td>561.805567</td>\n",
       "    </tr>\n",
       "    <tr>\n",
       "      <th>Switzerland</th>\n",
       "      <td>609.474212</td>\n",
       "    </tr>\n",
       "    <tr>\n",
       "      <th>UK</th>\n",
       "      <td>436.824519</td>\n",
       "    </tr>\n",
       "    <tr>\n",
       "      <th>USA</th>\n",
       "      <td>697.667493</td>\n",
       "    </tr>\n",
       "    <tr>\n",
       "      <th>Venezuela</th>\n",
       "      <td>481.446008</td>\n",
       "    </tr>\n",
       "  </tbody>\n",
       "</table>\n",
       "</div>"
      ],
      "text/plain": [
       "                    mean\n",
       "Country                 \n",
       "Argentina     202.560870\n",
       "Austria      1024.030708\n",
       "Belgium       604.015268\n",
       "Brazil        498.210301\n",
       "Canada        669.283867\n",
       "Denmark       710.022228\n",
       "Finland       348.334306\n",
       "France        455.670986\n",
       "Germany       702.087297\n",
       "Ireland       908.725545\n",
       "Italy         297.550094\n",
       "Mexico        301.056364\n",
       "Norway        358.446875\n",
       "Poland        220.746875\n",
       "Portugal      382.412083\n",
       "Spain         333.022222\n",
       "Sweden        561.805567\n",
       "Switzerland   609.474212\n",
       "UK            436.824519\n",
       "USA           697.667493\n",
       "Venezuela     481.446008"
      ]
     },
     "metadata": {},
     "output_type": "display_data"
    }
   ],
   "source": [
    "q=('''SELECT  c.Country, \n",
    "    (e.UnitPrice * e.Quantity * (1 - e.Discount)) as TotalSales   \n",
    "FROM Orders b \n",
    "INNER JOIN Customer c on c.Id = b.CustomerID\n",
    "INNER JOIN OrderDetail e on b.Id = e.OrderID \n",
    "ORDER BY 2 DESC ;''')\n",
    "custdf = pysqldf(q)\n",
    "display(custdf['TotalSales'].groupby(custdf['Country']).describe(), custdf.groupby('Country').TotalSales.agg(['mean']))\n"
   ]
  },
  {
   "cell_type": "code",
   "execution_count": 63,
   "metadata": {},
   "outputs": [
    {
     "data": {
      "text/html": [
       "<div>\n",
       "<style scoped>\n",
       "    .dataframe tbody tr th:only-of-type {\n",
       "        vertical-align: middle;\n",
       "    }\n",
       "\n",
       "    .dataframe tbody tr th {\n",
       "        vertical-align: top;\n",
       "    }\n",
       "\n",
       "    .dataframe thead th {\n",
       "        text-align: right;\n",
       "    }\n",
       "</style>\n",
       "<table border=\"1\" class=\"dataframe\">\n",
       "  <thead>\n",
       "    <tr style=\"text-align: right;\">\n",
       "      <th></th>\n",
       "      <th>df</th>\n",
       "      <th>sum_sq</th>\n",
       "      <th>mean_sq</th>\n",
       "      <th>F</th>\n",
       "      <th>PR(&gt;F)</th>\n",
       "    </tr>\n",
       "  </thead>\n",
       "  <tbody>\n",
       "    <tr>\n",
       "      <th>C(Country)</th>\n",
       "      <td>20.0</td>\n",
       "      <td>7.129481e+07</td>\n",
       "      <td>3.564741e+06</td>\n",
       "      <td>3.849617</td>\n",
       "      <td>1.915607e-08</td>\n",
       "    </tr>\n",
       "    <tr>\n",
       "      <th>Residual</th>\n",
       "      <td>2057.0</td>\n",
       "      <td>1.904779e+09</td>\n",
       "      <td>9.259987e+05</td>\n",
       "      <td>NaN</td>\n",
       "      <td>NaN</td>\n",
       "    </tr>\n",
       "  </tbody>\n",
       "</table>\n",
       "</div>"
      ],
      "text/plain": [
       "                df        sum_sq       mean_sq         F        PR(>F)\n",
       "C(Country)    20.0  7.129481e+07  3.564741e+06  3.849617  1.915607e-08\n",
       "Residual    2057.0  1.904779e+09  9.259987e+05       NaN           NaN"
      ]
     },
     "execution_count": 63,
     "metadata": {},
     "output_type": "execute_result"
    }
   ],
   "source": [
    "#Run Anova to test significant differences between the means of the independent groups\n",
    "formula = 'TotalSales ~ C(Country)'\n",
    "lm = ols(formula, custdf).fit()\n",
    "tcustdf = sm.stats.anova_lm(lm, typ=1)\n",
    "tcustdf\n"
   ]
  },
  {
   "cell_type": "markdown",
   "metadata": {},
   "source": [
    "### Conclusion"
   ]
  },
  {
   "cell_type": "code",
   "execution_count": 64,
   "metadata": {},
   "outputs": [
    {
     "name": "stdout",
     "output_type": "stream",
     "text": [
      "F_stat = 3.85 and the p-value = 0.0\n",
      "Reject Null Hypothesis since p is < 0.05. There is a statistically significant difference in the Mean Total Sales between Countries.\n"
     ]
    }
   ],
   "source": [
    "print('F_stat =', tcustdf['F'][0].round(3),'and the p-value =', tcustdf['PR(>F)'][0].round(3)) \n",
    "print('Reject Null Hypothesis since p is < 0.05. There is a statistically significant difference in the Mean Total Sales between Countries.') if tcustdf['PR(>F)'][0].round(3) <= 0.05 else print('Failed to reject the Null Hypothesis since p > 0.05.  There is NOT enough evidence to support the claim that there is a difference in TotalSales between Countries.')"
   ]
  },
  {
   "cell_type": "markdown",
   "metadata": {},
   "source": [
    "Please note that the ANOVA alone does not tell us specifically which means were different from one another. To determine that we would need to follow up with multiple comparisons (or post-hoc) tests."
   ]
  },
  {
   "cell_type": "code",
   "execution_count": 65,
   "metadata": {},
   "outputs": [
    {
     "name": "stdout",
     "output_type": "stream",
     "text": [
      "        Multiple Comparison of Means - Tukey HSD, FWER=0.05         \n",
      "====================================================================\n",
      "   group1      group2    meandiff p-adj    lower      upper   reject\n",
      "--------------------------------------------------------------------\n",
      "  Argentina     Austria  821.4698 0.0263     41.154 1601.7857   True\n",
      "  Argentina     Belgium  401.4544    0.9  -450.2995 1253.2083  False\n",
      "  Argentina      Brazil  295.6494    0.9  -470.4008 1061.6997  False\n",
      "  Argentina      Canada   466.723 0.8988  -353.0186 1286.4646  False\n",
      "  Argentina     Denmark  507.4614 0.8789  -370.8333  1385.756  False\n",
      "  Argentina     Finland  145.7734    0.9  -710.5603 1002.1072  False\n",
      "  Argentina      France  253.1101    0.9  -509.6855 1015.9057  False\n",
      "  Argentina     Germany  499.5264 0.6531  -242.3152 1241.3681  False\n",
      "  Argentina     Ireland  706.1647  0.275  -147.8406 1560.1699  False\n",
      "  Argentina       Italy   94.9892    0.9  -763.7543  953.7327  False\n",
      "  Argentina      Mexico   98.4955    0.9  -755.5098  952.5008  False\n",
      "  Argentina      Norway   155.886    0.9  -963.7243 1275.4964  False\n",
      "  Argentina      Poland    18.186    0.9 -1101.4243 1137.7964  False\n",
      "  Argentina    Portugal  179.8512    0.9  -773.3222 1133.0246  False\n",
      "  Argentina       Spain  130.4614    0.9  -725.8724  986.7951  False\n",
      "  Argentina      Sweden  359.2447    0.9  -438.3814 1156.8708  False\n",
      "  Argentina Switzerland  406.9133    0.9  -454.3254 1268.1521  False\n",
      "  Argentina          UK  234.2636    0.9  -541.5479 1010.0752  False\n",
      "  Argentina         USA  495.1066 0.6636   -245.076 1235.2893  False\n",
      "  Argentina   Venezuela  278.8851    0.9  -505.0193 1062.7896  False\n",
      "    Austria     Belgium -420.0154 0.4462  -973.0456  133.0147  False\n",
      "    Austria      Brazil -525.8204  0.001  -934.7099 -116.9309   True\n",
      "    Austria      Canada -354.7468 0.5755  -857.0754  147.5817  False\n",
      "    Austria     Denmark -314.0085    0.9  -907.1013  279.0843  False\n",
      "    Austria     Finland -675.6964 0.0031 -1235.7546 -115.6382   True\n",
      "    Austria      France -568.3597  0.001  -971.1186 -165.6009   True\n",
      "    Austria     Germany -321.9434 0.1587  -683.4496   39.5627  False\n",
      "    Austria     Ireland -115.3052    0.9  -671.7965  441.1862  False\n",
      "    Austria       Italy -726.4806  0.001 -1290.2164 -162.7449   True\n",
      "    Austria      Mexico -722.9743  0.001 -1279.4657  -166.483   True\n",
      "    Austria      Norway -665.5838  0.522 -1578.7568  247.5892  False\n",
      "    Austria      Poland -803.2838  0.175 -1716.4568  109.8892  False\n",
      "    Austria    Portugal -641.6186 0.1229 -1340.8304   57.5931  False\n",
      "    Austria       Spain -691.0085  0.002 -1251.0667 -130.9503   True\n",
      "    Austria      Sweden -462.2251 0.0542  -927.5906    3.1403  False\n",
      "    Austria Switzerland -414.5565 0.5182   -982.086   152.973  False\n",
      "    Austria          UK -587.2062  0.001 -1014.1034  -160.309   True\n",
      "    Austria         USA -326.3632  0.129  -684.4525   31.7261  False\n",
      "    Austria   Venezuela -542.5847 0.0022  -984.0186 -101.1508   True\n",
      "    Belgium      Brazil  -105.805    0.9  -638.5173  426.9074  False\n",
      "    Belgium      Canada   65.2686    0.9   -542.124  672.6612  False\n",
      "    Belgium     Denmark   106.007    0.9  -578.3547  790.3686  False\n",
      "    Belgium     Finland  -255.681    0.9  -911.6207  400.2588  False\n",
      "    Belgium      France -148.3443    0.9  -676.3656   379.677  False\n",
      "    Belgium     Germany    98.072    0.9   -399.199  595.3431  False\n",
      "    Belgium     Ireland  304.7103    0.9  -348.1867  957.6072  False\n",
      "    Belgium       Italy -306.4652    0.9  -965.5477  352.6174  False\n",
      "    Belgium      Mexico -302.9589    0.9  -955.8559   349.938  False\n",
      "    Belgium      Norway -245.5684    0.9 -1220.4924  729.3556  False\n",
      "    Belgium      Poland -383.2684    0.9 -1358.1924  591.6556  False\n",
      "    Belgium    Portugal -221.6032    0.9  -999.7349  556.5285  False\n",
      "    Belgium       Spain  -270.993    0.9  -926.9328  384.9467  False\n",
      "    Belgium      Sweden  -42.2097    0.9  -619.4071  534.9877  False\n",
      "    Belgium Switzerland    5.4589    0.9  -656.8715  667.7894  False\n",
      "    Belgium          UK -167.1907    0.9   -713.847  379.4655  False\n",
      "    Belgium         USA   93.6522    0.9  -401.1404  588.4449  False\n",
      "    Belgium   Venezuela -122.5693    0.9  -680.6514  435.5129  False\n",
      "     Brazil      Canada  171.0736    0.9  -308.7953  650.9424  False\n",
      "     Brazil     Denmark  211.8119    0.9  -362.3824  786.0063  False\n",
      "     Brazil     Finland  -149.876    0.9  -689.8809  390.1289  False\n",
      "     Brazil      France  -42.5393    0.9  -416.9119  331.8333  False\n",
      "     Brazil     Germany   203.877 0.7825  -125.7088  533.4628  False\n",
      "     Brazil     Ireland  410.5152 0.4302  -125.7895    946.82  False\n",
      "     Brazil       Italy -200.6602    0.9  -744.4783  343.1579  False\n",
      "     Brazil      Mexico -197.1539    0.9  -733.4586  339.1508  False\n",
      "     Brazil      Norway -139.7634    0.9 -1040.7768  761.2499  False\n",
      "     Brazil      Poland -277.4634    0.9 -1178.4768  623.5499  False\n",
      "     Brazil    Portugal -115.7982    0.9  -799.0531  567.4567  False\n",
      "     Brazil       Spain -165.1881    0.9   -705.193  374.8168  False\n",
      "     Brazil      Sweden   63.5953    0.9  -377.4321  504.6226  False\n",
      "     Brazil Switzerland  111.2639    0.9  -436.4859  659.0138  False\n",
      "     Brazil          UK  -61.3858    0.9  -461.6124  338.8408  False\n",
      "     Brazil         USA  199.4572 0.7977  -126.3773  525.2916  False\n",
      "     Brazil   Venezuela  -16.7643    0.9  -432.4613  398.9327  False\n",
      "     Canada     Denmark   40.7384    0.9  -603.3444  684.8211  False\n",
      "     Canada     Finland -320.9496    0.9  -934.7481   292.849  False\n",
      "     Canada      France -213.6129    0.9  -688.2688   261.043  False\n",
      "     Canada     Germany   32.8034    0.9  -407.3899  472.9968  False\n",
      "     Canada     Ireland  239.4417    0.9  -371.1041  849.9874  False\n",
      "     Canada       Italy -371.7338 0.8209  -988.8897  245.4222  False\n",
      "     Canada      Mexico -368.2275  0.819  -978.7732  242.3182  False\n",
      "     Canada      Norway  -310.837    0.9 -1257.9212  636.2472  False\n",
      "     Canada      Poland  -448.537    0.9 -1395.6212  498.5472  False\n",
      "     Canada    Portugal -286.8718    0.9 -1029.8257  456.0822  False\n",
      "     Canada       Spain -336.2616    0.9  -950.0602  277.5369  False\n",
      "     Canada      Sweden -107.4783    0.9  -636.2963  421.3397  False\n",
      "     Canada Switzerland  -59.8097    0.9  -680.4329  560.8136  False\n",
      "     Canada          UK -232.4593    0.9   -727.762  262.8433  False\n",
      "     Canada         USA   28.3836    0.9   -409.008  465.7753  False\n",
      "     Canada   Venezuela -187.8379    0.9   -695.723  320.0473  False\n",
      "    Denmark     Finland -361.6879    0.9 -1051.7413  328.3655  False\n",
      "    Denmark      France -254.3512    0.9  -824.1962  315.4937  False\n",
      "    Denmark     Germany   -7.9349    0.9    -549.41  533.5401  False\n",
      "    Denmark     Ireland  198.7033    0.9  -488.4584   885.865  False\n",
      "    Denmark       Italy -412.4721 0.8378 -1105.5137  280.5694  False\n",
      "    Denmark      Mexico -408.9659 0.8378 -1096.1276  278.1958  False\n",
      "    Denmark      Norway -351.5754    0.9 -1349.7705  646.6198  False\n",
      "    Denmark      Poland -489.2754    0.9 -1487.4705  508.9198  False\n",
      "    Denmark    Portugal -327.6101    0.9 -1134.7072  479.4869  False\n",
      "    Denmark       Spain    -377.0    0.9 -1067.0534  313.0534  False\n",
      "    Denmark      Sweden -148.2167    0.9  -763.9062  467.4728  False\n",
      "    Denmark Switzerland  -100.548    0.9   -796.679   595.583  False\n",
      "    Denmark          UK -273.1977    0.9  -860.3517  313.9563  False\n",
      "    Denmark         USA  -12.3547    0.9  -551.5546  526.8452  False\n",
      "    Denmark   Venezuela -228.5762    0.9  -826.3826  369.2301  False\n",
      "    Finland      France  107.3367    0.9  -428.0411  642.7145  False\n",
      "    Finland     Germany   353.753 0.5892  -151.3226  858.8286  False\n",
      "    Finland     Ireland  560.3912 0.2267   -98.4694 1219.2518  False\n",
      "    Finland       Italy  -50.7842    0.9  -715.7749  614.2065  False\n",
      "    Finland      Mexico  -47.2779    0.9  -706.1385  611.5827  False\n",
      "    Finland      Norway   10.1126    0.9  -968.8152  989.0404  False\n",
      "    Finland      Poland -127.5874    0.9 -1106.5152  851.3404  False\n",
      "    Finland    Portugal   34.0778    0.9  -749.0645    817.22  False\n",
      "    Finland       Spain  -15.3121    0.9  -677.1881  646.5639  False\n",
      "    Finland      Sweden  213.4713    0.9  -370.4634  797.4059  False\n",
      "    Finland Switzerland  261.1399    0.9    -407.07  929.3498  False\n",
      "    Finland          UK   88.4902    0.9   -465.275  642.2554  False\n",
      "    Finland         USA  349.3332  0.602  -153.3025  851.9689  False\n",
      "    Finland   Venezuela  133.1117    0.9  -431.9357  698.1591  False\n",
      "     France     Germany  246.4163 0.4303   -75.5323  568.3649  False\n",
      "     France     Ireland  453.0546 0.2236   -78.5908     984.7  False\n",
      "     France       Italy -158.1209    0.9  -697.3446  381.1028  False\n",
      "     France      Mexico -154.6146    0.9    -686.26  377.0308  False\n",
      "     France      Norway  -97.2241    0.9  -995.4719  801.0237  False\n",
      "     France      Poland -234.9241    0.9 -1133.1719  663.3237  False\n",
      "     France    Portugal  -73.2589    0.9  -752.8627  606.3449  False\n",
      "     France       Spain -122.6488    0.9  -658.0265   412.729  False\n",
      "     France      Sweden  106.1346    0.9  -329.2149  541.4841  False\n",
      "     France Switzerland  153.8032    0.9  -389.3855  696.9919  False\n",
      "     France          UK  -18.8465    0.9  -412.8077  375.1147  False\n",
      "     France         USA  241.9965 0.4428   -76.1107  560.1037  False\n",
      "     France   Venezuela    25.775    0.9  -383.8932  435.4433  False\n",
      "    Germany     Ireland  206.6382    0.9  -294.4793  707.7558  False\n",
      "    Germany       Italy -404.5372 0.3511  -913.6877  104.6133  False\n",
      "    Germany      Mexico -401.0309 0.3362  -902.1485  100.0866  False\n",
      "    Germany      Norway -343.6404    0.9 -1224.1637  536.8828  False\n",
      "    Germany      Poland -481.3404    0.9 -1361.8637  399.1828  False\n",
      "    Germany    Portugal -319.6752    0.9  -975.6732  336.3227  False\n",
      "    Germany       Spain -369.0651 0.5176  -874.1407  136.0105  False\n",
      "    Germany      Sweden -140.2817    0.9  -537.7754  257.2119  False\n",
      "    Germany Switzerland  -92.6131    0.9  -605.9609  420.7347  False\n",
      "    Germany          UK -265.2628 0.4599  -616.9408   86.4152  False\n",
      "    Germany         USA   -4.4198    0.9  -268.3595  259.5199  False\n",
      "    Germany   Venezuela -220.6413  0.832  -589.8297  148.5471  False\n",
      "    Ireland       Italy -611.1755  0.116  -1273.165   50.8141  False\n",
      "    Ireland      Mexico -607.6692  0.112 -1263.5005   48.1622  False\n",
      "    Ireland      Norway -550.2787    0.9 -1527.1702  426.6129  False\n",
      "    Ireland      Poland -687.9787 0.5801 -1664.8702  288.9129  False\n",
      "    Ireland    Portugal -526.3135  0.651 -1306.9089   254.282  False\n",
      "    Ireland       Spain -575.7033 0.1846 -1234.5639   83.1573  False\n",
      "    Ireland      Sweden   -346.92  0.832  -927.4345  233.5945  False\n",
      "    Ireland Switzerland -299.2513    0.9  -964.4745  365.9719  False\n",
      "    Ireland          UK  -471.901 0.2131 -1022.0586   78.2565  False\n",
      "    Ireland         USA -211.0581    0.9  -709.7163  287.6002  False\n",
      "    Ireland   Venezuela -427.2795 0.4423  -988.7918  134.2327  False\n",
      "      Italy      Mexico    3.5063    0.9  -658.4832  665.4958  False\n",
      "      Italy      Norway   60.8968    0.9  -920.1396 1041.9332  False\n",
      "      Italy      Poland  -76.8032    0.9 -1057.8396  904.2332  False\n",
      "      Italy    Portugal    84.862    0.9  -700.9144  870.6384  False\n",
      "      Italy       Spain   35.4721    0.9  -629.5186  700.4628  False\n",
      "      Italy      Sweden  264.2555    0.9  -323.2073  851.7182  False\n",
      "      Italy Switzerland  311.9241    0.9  -359.3711  983.2193  False\n",
      "      Italy          UK  139.2744    0.9  -418.2098  696.7587  False\n",
      "      Italy         USA  400.1174 0.3643  -106.6128  906.8476  False\n",
      "      Italy   Venezuela  183.8959    0.9  -384.7968  752.5886  False\n",
      "     Mexico      Norway   57.3905    0.9   -919.501 1034.2821  False\n",
      "     Mexico      Poland  -80.3095    0.9  -1057.201  896.5821  False\n",
      "     Mexico    Portugal   81.3557    0.9  -699.2397  861.9511  False\n",
      "     Mexico       Spain   31.9659    0.9  -626.8947  690.8265  False\n",
      "     Mexico      Sweden  260.7492    0.9  -319.7653  841.2637  False\n",
      "     Mexico Switzerland  308.4178    0.9  -356.8053   973.641  False\n",
      "     Mexico          UK  135.7682    0.9  -414.3894  685.9257  False\n",
      "     Mexico         USA  396.6111  0.349  -102.0472  895.2694  False\n",
      "     Mexico   Venezuela  180.3896    0.9  -381.1226  741.9019  False\n",
      "     Norway      Poland    -137.7    0.9 -1353.6438 1078.2438  False\n",
      "     Norway    Portugal   23.9652    0.9 -1040.7092 1088.6396  False\n",
      "     Norway       Spain  -25.4247    0.9 -1004.3524  953.5031  False\n",
      "     Norway      Sweden  203.3587    0.9  -724.6496  1131.367  False\n",
      "     Norway Switzerland  251.0273    0.9   -732.194 1234.2487  False\n",
      "     Norway          UK   78.3776    0.9  -830.9494  987.7047  False\n",
      "     Norway         USA  339.2206    0.9  -539.9053 1218.3466  False\n",
      "     Norway   Venezuela  122.9991    0.9  -793.2423 1039.2405  False\n",
      "     Poland    Portugal  161.6652    0.9  -903.0092 1226.3396  False\n",
      "     Poland       Spain  112.2753    0.9  -866.6524 1091.2031  False\n",
      "     Poland      Sweden  341.0587    0.9  -586.9496  1269.067  False\n",
      "     Poland Switzerland  388.7273    0.9   -594.494 1371.9487  False\n",
      "     Poland          UK  216.0776    0.9  -693.2494 1125.4047  False\n",
      "     Poland         USA  476.9206    0.9  -402.2053 1356.0466  False\n",
      "     Poland   Venezuela  260.6991    0.9  -655.5423 1176.9405  False\n",
      "   Portugal       Spain  -49.3899    0.9  -832.5321  733.7524  False\n",
      "   Portugal      Sweden  179.3935    0.9  -539.0852  897.8721  False\n",
      "   Portugal Switzerland  227.0621    0.9  -561.4405 1015.5647  False\n",
      "   Portugal          UK   54.4124    0.9   -639.769  748.5938  False\n",
      "   Portugal         USA  315.2554    0.9  -338.8658  969.3766  False\n",
      "   Portugal   Venezuela   99.0339    0.9  -604.1804  802.2483  False\n",
      "      Spain      Sweden  228.7833    0.9  -355.1513   812.718  False\n",
      "      Spain Switzerland   276.452    0.9  -391.7579  944.6619  False\n",
      "      Spain          UK  103.8023    0.9  -449.9629  657.5675  False\n",
      "      Spain         USA  364.6453   0.53  -137.9904   867.281  False\n",
      "      Spain   Venezuela  148.4238    0.9  -416.6236  713.4711  False\n",
      "     Sweden Switzerland   47.6686    0.9  -543.4356  638.7729  False\n",
      "     Sweden          UK  -124.981    0.9  -582.7536  332.7915  False\n",
      "     Sweden         USA  135.8619    0.9  -258.5268  530.2506  False\n",
      "     Sweden   Venezuela  -80.3596    0.9  -551.7175  390.9984  False\n",
      "Switzerland          UK -172.6497    0.9    -733.97  388.6706  False\n",
      "Switzerland         USA   88.1933    0.9  -422.7541  599.1407  False\n",
      "Switzerland   Venezuela -128.0282    0.9  -700.4818  444.4254  False\n",
      "         UK         USA   260.843 0.4729   -87.3218  609.0077  False\n",
      "         UK   Venezuela   44.6215    0.9  -388.8004  478.0434  False\n",
      "        USA   Venezuela -216.2215 0.8476  -582.0648  149.6218  False\n",
      "--------------------------------------------------------------------\n"
     ]
    }
   ],
   "source": [
    "# Set up the data for comparison \n",
    "MultiComp = MultiComparison(custdf['TotalSales'], custdf['Country'])\n",
    "# Show all pair-wise comparisons:\n",
    "# Print the comparisons\n",
    "print(MultiComp.tukeyhsd().summary())"
   ]
  },
  {
   "cell_type": "markdown",
   "metadata": {},
   "source": [
    "### Conclusion\n"
   ]
  },
  {
   "cell_type": "markdown",
   "metadata": {},
   "source": [
    "There is a statistically significant difference in the average TotalSales between customers from Austria & Argentina, Austria & Brazil, Austria & Finland, Austria & France, Austria & Italy, Austria & Mexico, Austria & Spain, Austria & UK, Austria & Venezuela. While Austria has the largest Total sales followed by Portugal, the test however didn't find a significant difference in the mean Total sales between these two countries."
   ]
  },
  {
   "cell_type": "markdown",
   "metadata": {},
   "source": [
    "[<a href=\"#Module-3-Final-Project\">Jump back to Table of Contents</a>]  \n",
    " "
   ]
  },
  {
   "cell_type": "markdown",
   "metadata": {},
   "source": [
    "## 5. Interpret Findings  "
   ]
  },
  {
   "cell_type": "markdown",
   "metadata": {},
   "source": [
    "Does discount amount have a statistically significant effect on the quantity of a product in an order? If so, at what level(s) of discount?\n",
    "\n",
    "+ **Discount has a significant effect on quantity ordered.**\n",
    "\n",
    "What levels of discounts have a statistically significant effect on the quantity of a product in an order?   \n",
    "+ There is enough evidence to support the claim that there is a difference in mean quantity of orders between discount levels. **5%, 15%, 20%, and 25% discount levels have a significant effect on quantity of product ordered.**  \n",
    "\n",
    "We also looked at other features that may have an effect on quantity ordered and discount motivations such as product categories, salespersons granting discounts, and customers.  \n",
    "\n",
    "There are certain products that are more strongly in the customer focus. Knowing these primary products will help set competitive price. Knowing your secondary products could gve you more flexibility with pricing. \n",
    "\n",
    "\n",
    "\n",
    "Is there a difference in the mean quantity of order between product categories?  \n",
    "+ **There is NOT enough evidence to support the claim that there is a difference in mean quantity between product categories.**\n",
    "\n",
    "Is there a difference in the mean quantity of order between product categories and discounts?\n",
    "+ **There is NOT enough evidence to support the claim that there is a difference in mean quantity between product categories and whether or not a discount is applied.**\n",
    "\n",
    "Is there a difference in the mean quantity of order between salespersons and whether or not discounts are applied?  \n",
    "+ **There is NOT enough evidence to support the claim that there is statistically significant difference in average quantity of product ordered between salespersons.**\n",
    "\n",
    "Is there a difference in the Average  Total Sales between Countries?  \n",
    "+ **There is a statistically significant difference in the average TotalSales between customers from Austria & Argentina, Austria & Brazil, Austria & Finland, Austria & France, Austria & Italy, Austria & Mexico, Austria & Spain, Austria & UK, Austria & Venezuela. While Austria has the largest Total sales followed by Portugal, the test however didn't find a significant difference in the mean Total sales between these two countries.**\n",
    "\n",
    "I hope the findings above could provide a baseline information to help the Marketing Team in discount pricing  and help guide further exploration to determine where discounts has an effect in boosting volume of sales and profit. Further study is recommended to determine the variety of motivations for quantity discounts to help provide guidelines to the organization in designing quantity discount schedules and set out the most fruitful directions for future research.\n"
   ]
  },
  {
   "cell_type": "markdown",
   "metadata": {},
   "source": [
    "## Recommendation for Future Studies"
   ]
  },
  {
   "cell_type": "markdown",
   "metadata": {},
   "source": [
    "While discounts significantly impact the quantity of products ordered and increase overall sales volume, it would be advantageous to understand  the true impact of giving a discount to ensure profitability when offering discount pricing. We recommend that other metrics impacting discount pricing methods be considered for future research.  \n",
    "\n",
    "+ How can we identify customers with below-average margins? How could we segment discount offers to different types of customers (first-time, dormant, repeat) to entice new sales without losing out on the margins of sales?\n",
    "+ What type of discount (e.g. volume discount, event or seasonal discount, free shipping) has a higher impact on the volume of sales? \n",
    "+ Analyze granted discount frequencies and how the Sales Team is using the full range of percentages to understand how to link discounts with sales incentives.  In addition to analyzing which salesperson sells the most, further focus on profit analysis is equally important.\n",
    "+ Does giving a 20% discount mean the company has to sell 20% more product to make up for what the company gave away? How much more will Northwind need in sales volume to generate the same amount of gross profit dollars as before?\n",
    "+ Is there enough market demand to generate 20 percent more sales with a 10% drop in price. Is the discount really necessary?\n"
   ]
  },
  {
   "cell_type": "markdown",
   "metadata": {},
   "source": [
    "[<a href=\"#Module-3-Final-Project\">Jump back to Table of Contents</a>]  \n",
    " "
   ]
  }
 ],
 "metadata": {
  "kernelspec": {
   "display_name": "learn-env",
   "language": "python",
   "name": "learn-env"
  },
  "language_info": {
   "codemirror_mode": {
    "name": "ipython",
    "version": 3
   },
   "file_extension": ".py",
   "mimetype": "text/x-python",
   "name": "python",
   "nbconvert_exporter": "python",
   "pygments_lexer": "ipython3",
   "version": "3.6.6"
  }
 },
 "nbformat": 4,
 "nbformat_minor": 2
}
